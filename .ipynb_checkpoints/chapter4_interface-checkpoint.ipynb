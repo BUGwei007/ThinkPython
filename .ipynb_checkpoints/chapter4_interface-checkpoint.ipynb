{
 "cells": [
  {
   "cell_type": "code",
   "execution_count": 1,
   "metadata": {},
   "outputs": [
    {
     "name": "stdout",
     "output_type": "stream",
     "text": [
      "<turtle.Turtle object at 0x00000171978876D8>\n"
     ]
    }
   ],
   "source": [
    "## 初识turtle\n",
    "\n",
    "import turtle\n",
    "\n",
    "if __name__ == '__main__':\n",
    "    bob = turtle.Turtle()\n",
    "    print(bob)    ## 查看对象\n",
    "    \n",
    "    bob.fd(100)\n",
    "    bob.lt(90)\n",
    "    bob.fd(100)\n",
    "    bob.lt(90)\n",
    "    bob.fd(100)\n",
    "    bob.lt(90)\n",
    "    bob.fd(100)\n",
    "    bob.lt(90)\n",
    "    \n",
    "    turtle.mainloop()"
   ]
  },
  {
   "cell_type": "code",
   "execution_count": 1,
   "metadata": {
    "collapsed": true
   },
   "outputs": [],
   "source": [
    "## 利用循环简化代码\n",
    "\n",
    "import turtle\n",
    "\n",
    "if __name__ == '__main__':\n",
    "    \n",
    "    bob = turtle.Turtle()\n",
    "    \n",
    "    for i in range(4):\n",
    "        bob.fd(100)\n",
    "        bob.lt(90)\n",
    "        \n",
    "    turtle.mainloop()\n"
   ]
  },
  {
   "cell_type": "code",
   "execution_count": 2,
   "metadata": {},
   "outputs": [
    {
     "ename": "Terminator",
     "evalue": "",
     "output_type": "error",
     "traceback": [
      "\u001b[1;31m---------------------------------------------------------------------------\u001b[0m",
      "\u001b[1;31mTerminator\u001b[0m                                Traceback (most recent call last)",
      "\u001b[1;32m<ipython-input-2-e44bf1d63644>\u001b[0m in \u001b[0;36m<module>\u001b[1;34m()\u001b[0m\n\u001b[0;32m     10\u001b[0m \u001b[1;32mif\u001b[0m \u001b[0m__name__\u001b[0m \u001b[1;33m==\u001b[0m \u001b[1;34m'__main__'\u001b[0m\u001b[1;33m:\u001b[0m\u001b[1;33m\u001b[0m\u001b[0m\n\u001b[0;32m     11\u001b[0m \u001b[1;33m\u001b[0m\u001b[0m\n\u001b[1;32m---> 12\u001b[1;33m     \u001b[0mbob\u001b[0m \u001b[1;33m=\u001b[0m \u001b[0mturtle\u001b[0m\u001b[1;33m.\u001b[0m\u001b[0mTurtle\u001b[0m\u001b[1;33m(\u001b[0m\u001b[1;33m)\u001b[0m\u001b[1;33m\u001b[0m\u001b[0m\n\u001b[0m\u001b[0;32m     13\u001b[0m \u001b[1;33m\u001b[0m\u001b[0m\n\u001b[0;32m     14\u001b[0m     \u001b[0msquare\u001b[0m\u001b[1;33m(\u001b[0m\u001b[0mbob\u001b[0m\u001b[1;33m)\u001b[0m\u001b[1;33m\u001b[0m\u001b[0m\n",
      "\u001b[1;32mC:\\Anaconda3\\lib\\turtle.py\u001b[0m in \u001b[0;36m__init__\u001b[1;34m(self, shape, undobuffersize, visible)\u001b[0m\n\u001b[0;32m   3814\u001b[0m                            \u001b[0mshape\u001b[0m\u001b[1;33m=\u001b[0m\u001b[0mshape\u001b[0m\u001b[1;33m,\u001b[0m\u001b[1;33m\u001b[0m\u001b[0m\n\u001b[0;32m   3815\u001b[0m                            \u001b[0mundobuffersize\u001b[0m\u001b[1;33m=\u001b[0m\u001b[0mundobuffersize\u001b[0m\u001b[1;33m,\u001b[0m\u001b[1;33m\u001b[0m\u001b[0m\n\u001b[1;32m-> 3816\u001b[1;33m                            visible=visible)\n\u001b[0m\u001b[0;32m   3817\u001b[0m \u001b[1;33m\u001b[0m\u001b[0m\n\u001b[0;32m   3818\u001b[0m \u001b[0mPen\u001b[0m \u001b[1;33m=\u001b[0m \u001b[0mTurtle\u001b[0m\u001b[1;33m\u001b[0m\u001b[0m\n",
      "\u001b[1;32mC:\\Anaconda3\\lib\\turtle.py\u001b[0m in \u001b[0;36m__init__\u001b[1;34m(self, canvas, shape, undobuffersize, visible)\u001b[0m\n\u001b[0;32m   2555\u001b[0m         \u001b[0mself\u001b[0m\u001b[1;33m.\u001b[0m\u001b[0m_undobuffersize\u001b[0m \u001b[1;33m=\u001b[0m \u001b[0mundobuffersize\u001b[0m\u001b[1;33m\u001b[0m\u001b[0m\n\u001b[0;32m   2556\u001b[0m         \u001b[0mself\u001b[0m\u001b[1;33m.\u001b[0m\u001b[0mundobuffer\u001b[0m \u001b[1;33m=\u001b[0m \u001b[0mTbuffer\u001b[0m\u001b[1;33m(\u001b[0m\u001b[0mundobuffersize\u001b[0m\u001b[1;33m)\u001b[0m\u001b[1;33m\u001b[0m\u001b[0m\n\u001b[1;32m-> 2557\u001b[1;33m         \u001b[0mself\u001b[0m\u001b[1;33m.\u001b[0m\u001b[0m_update\u001b[0m\u001b[1;33m(\u001b[0m\u001b[1;33m)\u001b[0m\u001b[1;33m\u001b[0m\u001b[0m\n\u001b[0m\u001b[0;32m   2558\u001b[0m \u001b[1;33m\u001b[0m\u001b[0m\n\u001b[0;32m   2559\u001b[0m     \u001b[1;32mdef\u001b[0m \u001b[0mreset\u001b[0m\u001b[1;33m(\u001b[0m\u001b[0mself\u001b[0m\u001b[1;33m)\u001b[0m\u001b[1;33m:\u001b[0m\u001b[1;33m\u001b[0m\u001b[0m\n",
      "\u001b[1;32mC:\\Anaconda3\\lib\\turtle.py\u001b[0m in \u001b[0;36m_update\u001b[1;34m(self)\u001b[0m\n\u001b[0;32m   2658\u001b[0m             \u001b[1;32mreturn\u001b[0m\u001b[1;33m\u001b[0m\u001b[0m\n\u001b[0;32m   2659\u001b[0m         \u001b[1;32melif\u001b[0m \u001b[0mscreen\u001b[0m\u001b[1;33m.\u001b[0m\u001b[0m_tracing\u001b[0m \u001b[1;33m==\u001b[0m \u001b[1;36m1\u001b[0m\u001b[1;33m:\u001b[0m\u001b[1;33m\u001b[0m\u001b[0m\n\u001b[1;32m-> 2660\u001b[1;33m             \u001b[0mself\u001b[0m\u001b[1;33m.\u001b[0m\u001b[0m_update_data\u001b[0m\u001b[1;33m(\u001b[0m\u001b[1;33m)\u001b[0m\u001b[1;33m\u001b[0m\u001b[0m\n\u001b[0m\u001b[0;32m   2661\u001b[0m             \u001b[0mself\u001b[0m\u001b[1;33m.\u001b[0m\u001b[0m_drawturtle\u001b[0m\u001b[1;33m(\u001b[0m\u001b[1;33m)\u001b[0m\u001b[1;33m\u001b[0m\u001b[0m\n\u001b[0;32m   2662\u001b[0m             \u001b[0mscreen\u001b[0m\u001b[1;33m.\u001b[0m\u001b[0m_update\u001b[0m\u001b[1;33m(\u001b[0m\u001b[1;33m)\u001b[0m                  \u001b[1;31m# TurtleScreenBase\u001b[0m\u001b[1;33m\u001b[0m\u001b[0m\n",
      "\u001b[1;32mC:\\Anaconda3\\lib\\turtle.py\u001b[0m in \u001b[0;36m_update_data\u001b[1;34m(self)\u001b[0m\n\u001b[0;32m   2644\u001b[0m \u001b[1;33m\u001b[0m\u001b[0m\n\u001b[0;32m   2645\u001b[0m     \u001b[1;32mdef\u001b[0m \u001b[0m_update_data\u001b[0m\u001b[1;33m(\u001b[0m\u001b[0mself\u001b[0m\u001b[1;33m)\u001b[0m\u001b[1;33m:\u001b[0m\u001b[1;33m\u001b[0m\u001b[0m\n\u001b[1;32m-> 2646\u001b[1;33m         \u001b[0mself\u001b[0m\u001b[1;33m.\u001b[0m\u001b[0mscreen\u001b[0m\u001b[1;33m.\u001b[0m\u001b[0m_incrementudc\u001b[0m\u001b[1;33m(\u001b[0m\u001b[1;33m)\u001b[0m\u001b[1;33m\u001b[0m\u001b[0m\n\u001b[0m\u001b[0;32m   2647\u001b[0m         \u001b[1;32mif\u001b[0m \u001b[0mself\u001b[0m\u001b[1;33m.\u001b[0m\u001b[0mscreen\u001b[0m\u001b[1;33m.\u001b[0m\u001b[0m_updatecounter\u001b[0m \u001b[1;33m!=\u001b[0m \u001b[1;36m0\u001b[0m\u001b[1;33m:\u001b[0m\u001b[1;33m\u001b[0m\u001b[0m\n\u001b[0;32m   2648\u001b[0m             \u001b[1;32mreturn\u001b[0m\u001b[1;33m\u001b[0m\u001b[0m\n",
      "\u001b[1;32mC:\\Anaconda3\\lib\\turtle.py\u001b[0m in \u001b[0;36m_incrementudc\u001b[1;34m(self)\u001b[0m\n\u001b[0;32m   1290\u001b[0m         \u001b[1;32mif\u001b[0m \u001b[1;32mnot\u001b[0m \u001b[0mTurtleScreen\u001b[0m\u001b[1;33m.\u001b[0m\u001b[0m_RUNNING\u001b[0m\u001b[1;33m:\u001b[0m\u001b[1;33m\u001b[0m\u001b[0m\n\u001b[0;32m   1291\u001b[0m             \u001b[0mTurtleScreen\u001b[0m\u001b[1;33m.\u001b[0m\u001b[0m_RUNNING\u001b[0m \u001b[1;33m=\u001b[0m \u001b[1;32mTrue\u001b[0m\u001b[1;33m\u001b[0m\u001b[0m\n\u001b[1;32m-> 1292\u001b[1;33m             \u001b[1;32mraise\u001b[0m \u001b[0mTerminator\u001b[0m\u001b[1;33m\u001b[0m\u001b[0m\n\u001b[0m\u001b[0;32m   1293\u001b[0m         \u001b[1;32mif\u001b[0m \u001b[0mself\u001b[0m\u001b[1;33m.\u001b[0m\u001b[0m_tracing\u001b[0m \u001b[1;33m>\u001b[0m \u001b[1;36m0\u001b[0m\u001b[1;33m:\u001b[0m\u001b[1;33m\u001b[0m\u001b[0m\n\u001b[0;32m   1294\u001b[0m             \u001b[0mself\u001b[0m\u001b[1;33m.\u001b[0m\u001b[0m_updatecounter\u001b[0m \u001b[1;33m+=\u001b[0m \u001b[1;36m1\u001b[0m\u001b[1;33m\u001b[0m\u001b[0m\n",
      "\u001b[1;31mTerminator\u001b[0m: "
     ]
    }
   ],
   "source": [
    "## 4.3.1 练习\n",
    "\n",
    "import turtle\n",
    "\n",
    "def square(t):\n",
    "    for i in range(4):\n",
    "        t.fd(100)\n",
    "        t.lt(90)\n",
    "        \n",
    "if __name__ == '__main__':\n",
    "    \n",
    "    bob = turtle.Turtle()\n",
    "    \n",
    "    square(bob)\n",
    "    \n",
    "    turtle.mainloop()"
   ]
  },
  {
   "cell_type": "code",
   "execution_count": 1,
   "metadata": {
    "collapsed": true
   },
   "outputs": [],
   "source": [
    "## 4.3.2 练习\n",
    "\n",
    "import turtle\n",
    "\n",
    "def square(t, length):\n",
    "    for i in range(4):\n",
    "        t.fd(length)\n",
    "        t.lt(90)\n",
    "        \n",
    "if __name__ == '__main__':\n",
    "    \n",
    "    bob = turtle.Turtle()\n",
    "    square_length = 250\n",
    "    \n",
    "    square(bob, square_length)\n",
    "    \n",
    "    turtle.mainloop()"
   ]
  },
  {
   "cell_type": "code",
   "execution_count": 1,
   "metadata": {
    "collapsed": true
   },
   "outputs": [],
   "source": [
    "## 4.3.3练习\n",
    "\n",
    "import turtle\n",
    "\n",
    "def polygon(t, length, n):\n",
    "    angle = 360/n\n",
    "    for i in range(n):\n",
    "        t.fd(length)\n",
    "        t.lt(angle)\n",
    "        \n",
    "if __name__ == '__main__':\n",
    "    \n",
    "    bob = turtle.Turtle()\n",
    "    square_length = 150\n",
    "    regular_polygon_n = 5\n",
    "    \n",
    "    polygon(bob, square_length, regular_polygon_n)\n",
    "    \n",
    "    turtle.mainloop()"
   ]
  },
  {
   "cell_type": "code",
   "execution_count": 1,
   "metadata": {
    "collapsed": true
   },
   "outputs": [],
   "source": [
    "## 4.3.4 练习\n",
    "\n",
    "import turtle, math\n",
    "\n",
    "def polygon(t, length, n):\n",
    "    angle = 360/n\n",
    "    for i in range(n):\n",
    "        t.fd(length)\n",
    "        t.lt(angle)\n",
    "\n",
    "def circle(t, r):\n",
    "    circumference = 2 * math.pi * r\n",
    "    n = 50\n",
    "    circle_length = circumference / n\n",
    "    polygon(t, circle_length, n)\n",
    "    \n",
    "if __name__ == '__main__':\n",
    "    bob = turtle.Turtle()\n",
    "    circle_r = 100\n",
    "    \n",
    "    circle(bob, circle_r)\n",
    "    \n",
    "    turtle.mainloop()\n",
    "    "
   ]
  },
  {
   "cell_type": "code",
   "execution_count": 1,
   "metadata": {
    "collapsed": true
   },
   "outputs": [],
   "source": [
    "## 对4.3.4练习的一点小改进\n",
    "## 原因：上述练习中的 n 是一个固定值，这对画圆形是很不友好的，画大圆线段太长，画小圆又浪费时间；\n",
    "##       另外n是间接变量，不应该放在接口中\n",
    "## 改进：将n随着周长的变化而变化\n",
    "\n",
    "import turtle, math\n",
    "\n",
    "def polygon(t, length, n):\n",
    "    angle = 360 / n\n",
    "    for i in range(n):\n",
    "        t.fd(length)\n",
    "        t.lt(angle)\n",
    "        \n",
    "def circle(t, r):\n",
    "    circumference = 2*math.pi*r\n",
    "    n = int(circumference/3) + 1\n",
    "    cir_length = circumference / n\n",
    "    polygon(t, cir_length, n)\n",
    "    \n",
    "if __name__ == '__main__':\n",
    "    bob = turtle.Turtle()\n",
    "    circle_r = 100\n",
    "    \n",
    "    circle(bob, circle_r)\n",
    "    \n",
    "    turtle.mainloop()"
   ]
  },
  {
   "cell_type": "code",
   "execution_count": 1,
   "metadata": {
    "collapsed": true
   },
   "outputs": [],
   "source": [
    "## 4.3.5 泛化函数arc，使其能画更完整的圆\n",
    "## 也称之为重构函数\n",
    "\n",
    "import turtle, math\n",
    "\n",
    "def polyline(t, n, length, angle):\n",
    "    for i in range(n):\n",
    "        t.fd(length)\n",
    "        t.lt(angle)\n",
    "        \n",
    "def arc(t, r, angle):\n",
    "    arc_length = 2*math.pi*r*angle/360\n",
    "    n = int(arc_length/3)+1\n",
    "    step_length = arc_length/n\n",
    "    step_angle = angle/n\n",
    "    \n",
    "    polyline(t, n, step_length, step_angle)\n",
    "    \n",
    "if __name__ == '__main__':\n",
    "    \n",
    "    bob = turtle.Turtle()\n",
    "    circle_r = 150\n",
    "    circle_angle = 180        ## 决定着圆弧的弧度\n",
    "    \n",
    "    arc(bob, circle_r, circle_angle)\n",
    "    \n",
    "    turtle.mainloop()"
   ]
  },
  {
   "cell_type": "code",
   "execution_count": 3,
   "metadata": {
    "collapsed": true
   },
   "outputs": [],
   "source": [
    "## 闲来无事画个圆\n",
    "\n",
    "import turtle\n",
    "\n",
    "turtle.circle(50)\n",
    "\n",
    "turtle.mainloop()"
   ]
  },
  {
   "cell_type": "markdown",
   "metadata": {},
   "source": [
    "## 总结"
   ]
  },
  {
   "cell_type": "markdown",
   "metadata": {},
   "source": [
    "1.封装函数，以实现某种功能  \n",
    "2.增加形参，泛化函数，以实现更多的功能  \n",
    "3.注意接口设计：一定要干净。符合黑箱子原理  \n",
    "4.考虑重构函数，以便于理清逻辑！  \n",
    "5.文档字符串的书写（三重引号，介绍函数的关键信息）"
   ]
  },
  {
   "cell_type": "markdown",
   "metadata": {},
   "source": [
    "## 注意"
   ]
  },
  {
   "cell_type": "markdown",
   "metadata": {},
   "source": [
    "### 调试  \n",
    "1.函数的先决条件：参数要求  \n",
    "2.函数的后置条件：函数结束时的条件，以及 预期效果"
   ]
  },
  {
   "cell_type": "markdown",
   "metadata": {},
   "source": [
    "## *4.12 练习*"
   ]
  },
  {
   "cell_type": "code",
   "execution_count": 1,
   "metadata": {
    "collapsed": true
   },
   "outputs": [],
   "source": [
    "## 4.1.1 利用circle画圆，并画出其堆栈图\n",
    "\n",
    "import turtle\n",
    "\n",
    "if __name__ == '__main__':\n",
    "    \n",
    "    bob = turtle.Turtle()\n",
    "    radius = 150\n",
    "    \n",
    "    ## 使其在屏幕中央画个圆\n",
    "    bob.pu()\n",
    "    bob.fd(radius)\n",
    "    bob.lt(90)\n",
    "    bob.pd()\n",
    "    bob.circle(radius)\n",
    "    \n",
    "    turtle.mainloop()"
   ]
  },
  {
   "cell_type": "code",
   "execution_count": 1,
   "metadata": {
    "collapsed": true
   },
   "outputs": [],
   "source": [
    "## 4.2 \n",
    "\n",
    "import turtle\n",
    "\n",
    "def triangle(f, n, length):\n",
    "    angle = 360/n\n",
    "    for i in range(n):\n",
    "        f.fd(length)\n",
    "        f.lt(180 - angle)\n",
    "        f.fd(length)\n",
    "        f.lt(180 - angle)\n",
    "        f.fd(length)\n",
    "        f.lt(180)\n",
    "\n",
    "if __name__ == '__main__':\n",
    "    \n",
    "    flower = turtle.Turtle()\n",
    "    flo_length = 100\n",
    "    tri_n = 8\n",
    "    flower.hideturtle()\n",
    "    \n",
    "    triangle(flower, tri_n, flo_length)\n",
    "    \n",
    "    turtle.mainloop()"
   ]
  },
  {
   "cell_type": "code",
   "execution_count": 4,
   "metadata": {},
   "outputs": [
    {
     "name": "stdout",
     "output_type": "stream",
     "text": [
      "0.7071067811865476 0.7071067811865476\n"
     ]
    }
   ],
   "source": [
    "## 4.12.3 测试math.sin()函数接受弧度\n",
    "\n",
    "import math\n",
    "\n",
    "print(math.sin(45/180*math.pi), math.sqrt(2)/2)"
   ]
  },
  {
   "cell_type": "code",
   "execution_count": 1,
   "metadata": {},
   "outputs": [],
   "source": [
    "## 4.12.5 阿基米德曲线\n",
    "\"\"\"This module contains a code example related to\n",
    "\n",
    "Think Python, 2nd Edition\n",
    "by Allen Downey\n",
    "http://thinkpython2.com\n",
    "\n",
    "Copyright 2015 Allen Downey\n",
    "\n",
    "License: http://creativecommons.org/licenses/by/4.0/\n",
    "\"\"\"\n",
    "\n",
    "from __future__ import print_function, division\n",
    "\n",
    "import turtle\n",
    "\n",
    "\n",
    "def draw_spiral(t, n, length=3, a=0.1, b=0.0002):\n",
    "    \"\"\"Draws an Archimedian spiral starting at the origin.\n",
    "\n",
    "    Args:\n",
    "      n: how many line segments to draw\n",
    "      length: how long each segment is\n",
    "      a: how loose the initial spiral starts out (larger is looser)\n",
    "      b: how loosly coiled the spiral is (larger is looser)\n",
    "\n",
    "    http://en.wikipedia.org/wiki/Spiral\n",
    "    \"\"\"\n",
    "    theta = 0.0\n",
    "\n",
    "    for i in range(n):\n",
    "        t.fd(length)\n",
    "        dtheta = 1 / (a + b * theta)\n",
    "\n",
    "        t.lt(dtheta)\n",
    "        theta += dtheta\n",
    "\n",
    "if __name__ == '__main__':\n",
    "    \n",
    "    # create the world and bob\n",
    "    bob = turtle.Turtle()\n",
    "    draw_spiral(bob, n=1000)\n",
    "\n",
    "    turtle.mainloop()\n"
   ]
  },
  {
   "cell_type": "code",
   "execution_count": null,
   "metadata": {
    "collapsed": true
   },
   "outputs": [],
   "source": []
  },
  {
   "cell_type": "code",
   "execution_count": null,
   "metadata": {
    "collapsed": true
   },
   "outputs": [],
   "source": []
  }
 ],
 "metadata": {
  "kernelspec": {
   "display_name": "Python 3",
   "language": "python",
   "name": "python3"
  },
  "language_info": {
   "codemirror_mode": {
    "name": "ipython",
    "version": 3
   },
   "file_extension": ".py",
   "mimetype": "text/x-python",
   "name": "python",
   "nbconvert_exporter": "python",
   "pygments_lexer": "ipython3",
   "version": "3.6.1"
  }
 },
 "nbformat": 4,
 "nbformat_minor": 2
}
