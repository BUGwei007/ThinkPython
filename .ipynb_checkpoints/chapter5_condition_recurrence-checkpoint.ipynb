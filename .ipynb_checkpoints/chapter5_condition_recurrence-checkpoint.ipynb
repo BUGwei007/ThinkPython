{
 "cells": [
  {
   "cell_type": "markdown",
   "metadata": {},
   "source": [
    "## 提示"
   ]
  },
  {
   "cell_type": "markdown",
   "metadata": {},
   "source": [
    "1.尽量避免使用嵌套条件  \n",
    "2.**递归** 和 **循环** 的使用，看情况而定。 "
   ]
  },
  {
   "cell_type": "code",
   "execution_count": null,
   "metadata": {
    "collapsed": true
   },
   "outputs": [],
   "source": []
  }
 ],
 "metadata": {
  "kernelspec": {
   "display_name": "Python 3",
   "language": "python",
   "name": "python3"
  },
  "language_info": {
   "codemirror_mode": {
    "name": "ipython",
    "version": 3
   },
   "file_extension": ".py",
   "mimetype": "text/x-python",
   "name": "python",
   "nbconvert_exporter": "python",
   "pygments_lexer": "ipython3",
   "version": "3.6.1"
  }
 },
 "nbformat": 4,
 "nbformat_minor": 2
}
