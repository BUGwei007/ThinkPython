{
 "cells": [
  {
   "cell_type": "code",
   "execution_count": 4,
   "metadata": {},
   "outputs": [
    {
     "name": "stdout",
     "output_type": "stream",
     "text": [
      "[2, 3]\n"
     ]
    }
   ],
   "source": [
    "## 修改列表而不是创建列表，才会对列表进行快速修改\n",
    "## 但是这种做法是有危险的，因为列表是可变的\n",
    "\n",
    "def tail(t):\n",
    "    t.pop(0)\n",
    "test = [1,2,3]\n",
    "tail(test)\n",
    "print(test)"
   ]
  },
  {
   "cell_type": "code",
   "execution_count": 6,
   "metadata": {},
   "outputs": [
    {
     "name": "stdout",
     "output_type": "stream",
     "text": [
      "[1, 2, 3]\n"
     ]
    }
   ],
   "source": [
    "## 创建列表不会修改列表\n",
    "\n",
    "def bad_delete_head(t):\n",
    "    t = t[1:]\n",
    "test = [1, 2, 3]\n",
    "bad_delete_head(test)\n",
    "print(test)"
   ]
  },
  {
   "cell_type": "code",
   "execution_count": 10,
   "metadata": {},
   "outputs": [
    {
     "name": "stdout",
     "output_type": "stream",
     "text": [
      "True\n",
      "[2, 3]\n"
     ]
    }
   ],
   "source": [
    "## 创建列表不会修改列表\n",
    "## 因为将列表作为一个参数传入函数，这是对列表的引用\n",
    "## 而创建列表则是创建新对象，并且函数中并不返回\n",
    "## 这个例子最后添加返回值便可，但是会浪费内存\n",
    "\n",
    "def bad_delete_head(t):\n",
    "    print(t is test)\n",
    "    t = t[1:]\n",
    "    return t\n",
    "test = [1, 2, 3]\n",
    "res = bad_delete_head(test)\n",
    "print(res)"
   ]
  },
  {
   "cell_type": "code",
   "execution_count": 37,
   "metadata": {},
   "outputs": [
    {
     "name": "stdout",
     "output_type": "stream",
     "text": [
      "21\n"
     ]
    }
   ],
   "source": [
    "## Exercise 10.1 \n",
    "\n",
    "def nested_sum(t):\n",
    "    count = 0\n",
    "    for i in t:\n",
    "        if isinstance(i, list):\n",
    "            count += nested_sum(i)\n",
    "        else:\n",
    "            count += i\n",
    "    return count\n",
    "\n",
    "def main():\n",
    "    t = [[1, [2]], [3], [4, [5, [6]]]]\n",
    "    total= 0\n",
    "    \n",
    "    total = nested_sum(t)\n",
    "    print(total)\n",
    "    \n",
    "main()\n"
   ]
  },
  {
   "cell_type": "code",
   "execution_count": 48,
   "metadata": {},
   "outputs": [
    {
     "name": "stdout",
     "output_type": "stream",
     "text": [
      "[0, 1, 3, 6]\n"
     ]
    }
   ],
   "source": [
    "## 10.2\n",
    "\n",
    "def cumsum(t):\n",
    "    cumsum = [0,]\n",
    "    cum = 0\n",
    "    for i in t:\n",
    "        cum = cum + i\n",
    "        cumsum.append(cum)\n",
    "    return cumsum\n",
    "\n",
    "def main():\n",
    "    t = [1, 2 ,3]\n",
    "    \n",
    "    print(cumsum(t))\n",
    "    \n",
    "main()\n",
    "    "
   ]
  },
  {
   "cell_type": "code",
   "execution_count": 53,
   "metadata": {},
   "outputs": [
    {
     "name": "stdout",
     "output_type": "stream",
     "text": [
      "[0, 1, 3, 6]\n"
     ]
    }
   ],
   "source": [
    "## 10.2\n",
    "\n",
    "def cumsum(s, t):\n",
    "    return s + t\n",
    "\n",
    "def main():\n",
    "    t = [1, 2 ,3]\n",
    "    sum_ = [0,]\n",
    "    start = 0\n",
    "    for i in t:\n",
    "        start = cumsum(start, i)\n",
    "        sum_.append(start)\n",
    "    print(sum_)\n",
    "main()\n",
    "    "
   ]
  },
  {
   "cell_type": "code",
   "execution_count": null,
   "metadata": {
    "collapsed": true
   },
   "outputs": [],
   "source": []
  },
  {
   "cell_type": "code",
   "execution_count": 63,
   "metadata": {},
   "outputs": [
    {
     "name": "stdout",
     "output_type": "stream",
     "text": [
      "[0, 1]\n"
     ]
    }
   ],
   "source": []
  }
 ],
 "metadata": {
  "kernelspec": {
   "display_name": "Python 3",
   "language": "python",
   "name": "python3"
  },
  "language_info": {
   "codemirror_mode": {
    "name": "ipython",
    "version": 3
   },
   "file_extension": ".py",
   "mimetype": "text/x-python",
   "name": "python",
   "nbconvert_exporter": "python",
   "pygments_lexer": "ipython3",
   "version": "3.6.1"
  }
 },
 "nbformat": 4,
 "nbformat_minor": 2
}
