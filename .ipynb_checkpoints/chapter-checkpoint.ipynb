{
 "cells": [
  {
   "cell_type": "code",
   "execution_count": 1,
   "metadata": {
    "collapsed": true
   },
   "outputs": [
    {
     "name": "stdout",
     "output_type": "stream",
     "text": [
      "hello, python, I just come back.\n"
     ]
    }
   ],
   "source": [
    "print('hello, python, I just come back.')"
   ]
  },
  {
   "cell_type": "code",
   "execution_count": 30,
   "metadata": {},
   "outputs": [
    {
     "name": "stdout",
     "output_type": "stream",
     "text": [
      "6*7 =  42\n",
      "3**2+3 =  12\n",
      "48/2 =  24.0\n",
      "48//2 =  24\n",
      " 3^2 =  1\n"
     ]
    }
   ],
   "source": [
    "print('6*7 = ', 6 * 7)\n",
    "print('3**2+3 = ', 3 ** 2 + 3)\n",
    "print('48/2 = ', 48 / 2)\n",
    "print('48//2 = ', 48 // 2)\n",
    "print(' 3^2 = ', 3 ^ 2)         ## 占位运算符"
   ]
  },
  {
   "cell_type": "code",
   "execution_count": 37,
   "metadata": {},
   "outputs": [
    {
     "name": "stdout",
     "output_type": "stream",
     "text": [
      "<class 'int'>\n",
      "<class 'float'>\n",
      "<class 'str'>\n",
      "<class 'str'>\n"
     ]
    }
   ],
   "source": [
    "print(type(2))\n",
    "print(type(2.0))\n",
    "print(type('h'))\n",
    "print(type('hello, world.'))"
   ]
  },
  {
   "cell_type": "code",
   "execution_count": 12,
   "metadata": {},
   "outputs": [
    {
     "ename": "SyntaxError",
     "evalue": "EOL while scanning string literal (<ipython-input-12-531b33c03af4>, line 2)",
     "output_type": "error",
     "traceback": [
      "\u001b[1;36m  File \u001b[1;32m\"<ipython-input-12-531b33c03af4>\"\u001b[1;36m, line \u001b[1;32m2\u001b[0m\n\u001b[1;33m    print('hello, i just try to make a mistake.)\u001b[0m\n\u001b[1;37m                                                ^\u001b[0m\n\u001b[1;31mSyntaxError\u001b[0m\u001b[1;31m:\u001b[0m EOL while scanning string literal\n"
     ]
    }
   ],
   "source": [
    "## EOL -- 行结束\n",
    "print('hello, i just try to make a mistake.)"
   ]
  },
  {
   "cell_type": "code",
   "execution_count": 2,
   "metadata": {},
   "outputs": [
    {
     "ename": "SyntaxError",
     "evalue": "unexpected EOF while parsing (<ipython-input-2-3bd876a5e185>, line 1)",
     "output_type": "error",
     "traceback": [
      "\u001b[1;36m  File \u001b[1;32m\"<ipython-input-2-3bd876a5e185>\"\u001b[1;36m, line \u001b[1;32m1\u001b[0m\n\u001b[1;33m    print('hello, i just try to make a mistake.'\u001b[0m\n\u001b[1;37m                                                ^\u001b[0m\n\u001b[1;31mSyntaxError\u001b[0m\u001b[1;31m:\u001b[0m unexpected EOF while parsing\n"
     ]
    }
   ],
   "source": [
    "## EOF -- 文件结束符\n",
    "print('hello, i just try to make a mistake.'"
   ]
  },
  {
   "cell_type": "code",
   "execution_count": 18,
   "metadata": {},
   "outputs": [
    {
     "name": "stdout",
     "output_type": "stream",
     "text": [
      "-2 2 -2\n",
      "2 2 2\n",
      "-2 -2\n",
      "4\n",
      "4\n",
      "0\n"
     ]
    }
   ],
   "source": [
    "## 同号为正，异号为负；奇数-为负号\n",
    "print(-2, --2, ---2)\n",
    "print(+2, ++2, +++2)\n",
    "print(+-2, -+2)\n",
    "print(2--2)\n",
    "print(2++2)\n",
    "print(2+-2)"
   ]
  },
  {
   "cell_type": "code",
   "execution_count": 22,
   "metadata": {},
   "outputs": [
    {
     "ename": "SyntaxError",
     "evalue": "invalid token (<ipython-input-22-a2290ff1150a>, line 1)",
     "output_type": "error",
     "traceback": [
      "\u001b[1;36m  File \u001b[1;32m\"<ipython-input-22-a2290ff1150a>\"\u001b[1;36m, line \u001b[1;32m1\u001b[0m\n\u001b[1;33m    print(02)\u001b[0m\n\u001b[1;37m           ^\u001b[0m\n\u001b[1;31mSyntaxError\u001b[0m\u001b[1;31m:\u001b[0m invalid token\n"
     ]
    }
   ],
   "source": [
    "## 非法的前导0\n",
    "print(02)"
   ]
  },
  {
   "cell_type": "code",
   "execution_count": 26,
   "metadata": {},
   "outputs": [
    {
     "ename": "SyntaxError",
     "evalue": "invalid syntax (<ipython-input-26-e10930f599a3>, line 2)",
     "output_type": "error",
     "traceback": [
      "\u001b[1;36m  File \u001b[1;32m\"<ipython-input-26-e10930f599a3>\"\u001b[1;36m, line \u001b[1;32m2\u001b[0m\n\u001b[1;33m    756'hello'\u001b[0m\n\u001b[1;37m             ^\u001b[0m\n\u001b[1;31mSyntaxError\u001b[0m\u001b[1;31m:\u001b[0m invalid syntax\n"
     ]
    }
   ],
   "source": [
    "## 值类型错误\n",
    "756'hello'"
   ]
  },
  {
   "cell_type": "code",
   "execution_count": 32,
   "metadata": {},
   "outputs": [
    {
     "name": "stdout",
     "output_type": "stream",
     "text": [
      "42分42秒一共是 2562\n"
     ]
    }
   ],
   "source": [
    "print('42分42秒一共是', 42*60+42)"
   ]
  },
  {
   "cell_type": "code",
   "execution_count": 39,
   "metadata": {},
   "outputs": [
    {
     "name": "stdout",
     "output_type": "stream",
     "text": [
      "10公里换算为 6.21 英里.\n"
     ]
    }
   ],
   "source": [
    "print('10公里换算为 %.2f 英里.' %(10/1.61))"
   ]
  },
  {
   "cell_type": "code",
   "execution_count": 50,
   "metadata": {},
   "outputs": [
    {
     "name": "stdout",
     "output_type": "stream",
     "text": [
      "42分42秒跑完了10公里，则每英里耗时 6.92 min, 耗时 412.48 s.\n",
      "则每小时跑了 8.73 英里.\n"
     ]
    }
   ],
   "source": [
    "print('42分42秒跑完了10公里，则每英里耗时 %.2f min, 耗时 %.2f s.' % (43/(10/1.61), (42*60+42)/(10/1.61)) )\n",
    "print('则每小时跑了 %.2f 英里.' % ( (10/1.61) / ((42*60+42)/3600) ))"
   ]
  }
 ],
 "metadata": {
  "kernelspec": {
   "display_name": "Python 3",
   "language": "python",
   "name": "python3"
  },
  "language_info": {
   "codemirror_mode": {
    "name": "ipython",
    "version": 3
   },
   "file_extension": ".py",
   "mimetype": "text/x-python",
   "name": "python",
   "nbconvert_exporter": "python",
   "pygments_lexer": "ipython3",
   "version": "3.6.1"
  }
 },
 "nbformat": 4,
 "nbformat_minor": 1
}
