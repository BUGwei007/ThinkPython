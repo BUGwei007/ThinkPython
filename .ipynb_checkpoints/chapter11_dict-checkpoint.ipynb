{
 "cells": [
  {
   "cell_type": "code",
   "execution_count": 3,
   "metadata": {},
   "outputs": [
    {
     "name": "stdout",
     "output_type": "stream",
     "text": [
      "{'a': 2, 'b': 2, 'c': 1, 'd': 1}\n"
     ]
    }
   ],
   "source": [
    "dict1 = {\n",
    "    'a': 0,\n",
    "    'b': 0,\n",
    "    'c': 0,\n",
    "    'd': 0\n",
    "}\n",
    "string = 'abadbc'\n",
    "for i in string:\n",
    "    dict1[i] += 1\n",
    "print(dict1)"
   ]
  },
  {
   "cell_type": "code",
   "execution_count": 4,
   "metadata": {},
   "outputs": [
    {
     "name": "stdout",
     "output_type": "stream",
     "text": [
      "{'a': 3, 'b': 2, 'd': 1, 'c': 1, 'f': 1, 'e': 2, 'j': 1, 'g': 1, 'h': 1, 'o': 1, 'w': 1}\n"
     ]
    }
   ],
   "source": [
    "## 采用动态内存\n",
    "\n",
    "def histogram(s):\n",
    "    d = dict()\n",
    "    for c in s:\n",
    "        if c not in d:\n",
    "            d[c] = 1\n",
    "        else:\n",
    "            d[c] += 1\n",
    "    return d\n",
    "\n",
    "def main():\n",
    "    ori_s = 'abadbcfejghoawe'\n",
    "    h = histogram(ori_s)\n",
    "    print(h)\n",
    "    \n",
    "main()"
   ]
  },
  {
   "cell_type": "code",
   "execution_count": 4,
   "metadata": {},
   "outputs": [
    {
     "name": "stdout",
     "output_type": "stream",
     "text": [
      "{'p': 1, 'a': 1, 'r': 2, 'o': 1, 't': 1}\n"
     ]
    }
   ],
   "source": [
    "## 利用get()简化histogram函数\n",
    "\n",
    "def histogram(s):\n",
    "    d = dict()\n",
    "    for item in s:\n",
    "        d[item] =  d.get(item, 0) + 1\n",
    "    return d\n",
    "\n",
    "def main():\n",
    "    ori_s = 'parrot'\n",
    "    h = histogram(ori_s)\n",
    "    print(h)\n",
    "    \n",
    "main()"
   ]
  },
  {
   "cell_type": "code",
   "execution_count": 5,
   "metadata": {},
   "outputs": [
    {
     "name": "stdout",
     "output_type": "stream",
     "text": [
      "p 1\n",
      "a 1\n",
      "r 2\n",
      "o 1\n",
      "t 1\n"
     ]
    }
   ],
   "source": [
    "## 输出键值对\n",
    "\n",
    "def print_hist(hist):\n",
    "    for c in hist:\n",
    "        print(c, hist[c])\n",
    "\n",
    "h = histogram('parrot')\n",
    "print_hist(h)"
   ]
  },
  {
   "cell_type": "code",
   "execution_count": 6,
   "metadata": {},
   "outputs": [
    {
     "name": "stdout",
     "output_type": "stream",
     "text": [
      "a 1\n",
      "o 1\n",
      "p 1\n",
      "r 2\n",
      "t 1\n"
     ]
    }
   ],
   "source": [
    "## 按照顺序输出键值对\n",
    "\n",
    "def print_hist(hist):\n",
    "    for key in sorted(hist):\n",
    "        print(key, hist[key])\n",
    "\n",
    "h = histogram('parrot')\n",
    "print_hist(h)"
   ]
  },
  {
   "cell_type": "code",
   "execution_count": 8,
   "metadata": {},
   "outputs": [
    {
     "name": "stdout",
     "output_type": "stream",
     "text": [
      "{1: ['p', 'a', 'o', 't'], 2: ['r']}\n"
     ]
    }
   ],
   "source": [
    "## 倒转字典的函数\n",
    "\n",
    "def invert_dict(d):\n",
    "    inverse = dict()\n",
    "    for key in d:\n",
    "        val = d[key]\n",
    "        if val not in inverse:\n",
    "            inverse[val] = [key]\n",
    "        else:\n",
    "            inverse[val].append(key)\n",
    "    return inverse\n",
    "\n",
    "def main():\n",
    "    print(invert_dict(h))\n",
    "    \n",
    "main()"
   ]
  },
  {
   "cell_type": "code",
   "execution_count": 2,
   "metadata": {},
   "outputs": [
    {
     "name": "stdout",
     "output_type": "stream",
     "text": [
      "fibonacci 第 30 项：514229\n"
     ]
    }
   ],
   "source": [
    "## fibonacci斐波那契数列的基本实现\n",
    "## 数学上，第一项是0，第二项是1，\n",
    "## 计算机上，是从0项开始的，有一点小区别\n",
    "\n",
    "def fibonacci(n):\n",
    "    \"\"\"\n",
    "    计算第n项的斐波那契数值\n",
    "    \"\"\"\n",
    "    if n < 0:\n",
    "        return 'you are wrong, n must more than 0!!!'\n",
    "    elif n == 0:\n",
    "        return 0\n",
    "    elif n == 1:\n",
    "        return 1\n",
    "    else:\n",
    "        return fibonacci(n-1) + fibonacci(n-2)\n",
    "    \n",
    "def main():\n",
    "    \n",
    "    n = 30\n",
    "    \n",
    "    fib = fibonacci(n-1)\n",
    "    print('fibonacci 第 %d 项：%d' %(n, fib))\n",
    "    \n",
    "main()"
   ]
  },
  {
   "cell_type": "code",
   "execution_count": 5,
   "metadata": {},
   "outputs": [
    {
     "name": "stdout",
     "output_type": "stream",
     "text": [
      "fibonacci 第 50 项：7778742049\n"
     ]
    }
   ],
   "source": [
    "## 通过字典存储已经计算过的fibonacci值来提升计算速度\n",
    "## 提升效果很好\n",
    "\n",
    "known = {0:0, 1:1}\n",
    "\n",
    "def fibonacci_pro(n):\n",
    "    if n in known:\n",
    "        return known[n]\n",
    "    \n",
    "    res = fibonacci_pro(n-1) + fibonacci_pro(n-2)\n",
    "    known[n] = res\n",
    "    \n",
    "    return res\n",
    "\n",
    "def main():\n",
    "        \n",
    "    n = 50\n",
    "    \n",
    "    fib = fibonacci_pro(n-1)\n",
    "    print('fibonacci 第 %d 项：%d' %(n, fib))\n",
    "    \n",
    "main()"
   ]
  },
  {
   "cell_type": "code",
   "execution_count": 2,
   "metadata": {},
   "outputs": [
    {
     "name": "stdout",
     "output_type": "stream",
     "text": [
      "{'str': 0, 'int': 0, 'dict': 0}\n"
     ]
    }
   ],
   "source": [
    "## Exercise 11.1\n",
    "## 测试\n",
    "\n",
    "a = ['str','int','dict']\n",
    "b = 0\n",
    "c = dict()\n",
    "\n",
    "for i in a:\n",
    "    c[i] = b\n",
    "    \n",
    "print(c)"
   ]
  },
  {
   "cell_type": "code",
   "execution_count": 8,
   "metadata": {},
   "outputs": [
    {
     "name": "stdout",
     "output_type": "stream",
     "text": [
      "True\n"
     ]
    }
   ],
   "source": [
    "## Exercise 11.1\n",
    "\n",
    "words = dict()\n",
    "\n",
    "for line in open('words.txt'):\n",
    "    words[line.strip()] = 0\n",
    "\n",
    "print('aa' in words)"
   ]
  },
  {
   "cell_type": "code",
   "execution_count": 17,
   "metadata": {},
   "outputs": [
    {
     "data": {
      "text/plain": [
       "2045"
      ]
     },
     "execution_count": 17,
     "metadata": {},
     "output_type": "execute_result"
    }
   ],
   "source": [
    "## Excercise 11.3\n",
    "\n",
    "data = dict()\n",
    "\n",
    "def find_ank(m, n):\n",
    "    mn = str(m) + str(n)\n",
    "    if mn in data:\n",
    "        return data[mn]\n",
    "    \n",
    "    elif m == 0:\n",
    "        res = n + 1\n",
    "        data[mn] = res\n",
    "        return res\n",
    "    \n",
    "    elif n == 0:\n",
    "        res = find_ank(m-1, 1)\n",
    "        data[mn] = res\n",
    "        return res\n",
    "    \n",
    "    res = find_ank(m-1, find_ank(m, n-1))\n",
    "    data[mn] = res\n",
    "    return res\n",
    "\n",
    "find_ank(3, 8)"
   ]
  },
  {
   "cell_type": "code",
   "execution_count": 25,
   "metadata": {},
   "outputs": [
    {
     "name": "stdout",
     "output_type": "stream",
     "text": [
      "2045\n"
     ]
    }
   ],
   "source": [
    "## 参考答案\n",
    "\n",
    "\"\"\"This module contains a code example related to\n",
    "\n",
    "Think Python, 2nd Edition\n",
    "by Allen Downey\n",
    "http://thinkpython2.com\n",
    "\n",
    "Copyright 2015 Allen Downey\n",
    "\n",
    "License: http://creativecommons.org/licenses/by/4.0/\n",
    "\"\"\"\n",
    "\n",
    "from __future__ import print_function, division\n",
    "\n",
    "cache = {}\n",
    "\n",
    "def ackermann(m, n):\n",
    "    \"\"\"Computes the Ackermann function A(m, n)\n",
    "\n",
    "    See http://en.wikipedia.org/wiki/Ackermann_function\n",
    "\n",
    "    n, m: non-negative integers\n",
    "    \"\"\"\n",
    "    if m == 0:\n",
    "        return n+1\n",
    "    if n == 0:\n",
    "        return ackermann(m-1, 1)\n",
    "\n",
    "    if (m, n) in cache:\n",
    "        return cache[m, n]\n",
    "    else:\n",
    "        cache[m, n] = ackermann(m-1, ackermann(m, n-1))\n",
    "        return cache[m, n]\n",
    "\n",
    "\n",
    "# print(ackermann(3, 4))\n",
    "print(ackermann(3, 8))"
   ]
  }
 ],
 "metadata": {
  "kernelspec": {
   "display_name": "Python 3",
   "language": "python",
   "name": "python3"
  },
  "language_info": {
   "codemirror_mode": {
    "name": "ipython",
    "version": 3
   },
   "file_extension": ".py",
   "mimetype": "text/x-python",
   "name": "python",
   "nbconvert_exporter": "python",
   "pygments_lexer": "ipython3",
   "version": "3.6.1"
  }
 },
 "nbformat": 4,
 "nbformat_minor": 4
}
