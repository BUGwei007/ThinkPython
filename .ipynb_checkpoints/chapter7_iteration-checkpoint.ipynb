{
 "cells": [
  {
   "cell_type": "code",
   "execution_count": 2,
   "metadata": {},
   "outputs": [
    {
     "name": "stdout",
     "output_type": "stream",
     "text": [
      "> fjt\n",
      "fjt\n",
      "> jei\n",
      "jei\n",
      "> don\n",
      "don\n",
      "> done\n",
      "Done!\n"
     ]
    }
   ],
   "source": [
    "# 7.4 break\n",
    "\n",
    "while True:\n",
    "    line = input('> ')\n",
    "    if line == \"done\":\n",
    "        break\n",
    "    print(line)\n",
    "    \n",
    "print('Done!')"
   ]
  },
  {
   "cell_type": "code",
   "execution_count": 27,
   "metadata": {},
   "outputs": [
    {
     "name": "stdout",
     "output_type": "stream",
     "text": [
      "本次估算值为 3.000000。\n",
      "本次计算的平方根为 1.833333。\n",
      "本次估算值为 1.833333。\n",
      "本次计算的平方根为 1.462121。\n",
      "本次估算值为 1.462121。\n",
      "本次计算的平方根为 1.414998。\n",
      "本次估算值为 1.414998。\n",
      "本次计算的平方根为 1.414214。\n",
      "本次估算值为 1.414214。\n",
      "本次计算的平方根为 1.414214。\n",
      "在精度为 0.0001，a的平方根为 1.4142。\n"
     ]
    }
   ],
   "source": [
    "# 利用牛顿法估算平方根\n",
    "\n",
    "def Nsqrt(a, x, epsilon):\n",
    "    \"\"\"\n",
    "    求a的平方根；x为任意估算值开始；epsilon是精度值\n",
    "    \"\"\"\n",
    "    while True:\n",
    "        print('本次估算值为 %f。' % x)\n",
    "        y = (x + a/x)/2\n",
    "        print('本次计算的平方根为 %f。' % y)\n",
    "        if abs(x-y) < epsilon :\n",
    "            print('在精度为 %.4f，a的平方根为 %.4f。' % (epsilon, y))\n",
    "            break\n",
    "        x = y\n",
    "        \n",
    "Nsqrt(2, 3, 0.0001)"
   ]
  },
  {
   "cell_type": "code",
   "execution_count": 49,
   "metadata": {},
   "outputs": [
    {
     "name": "stdout",
     "output_type": "stream",
     "text": [
      "a   mysqrt(a)      math.sqrt(a)   diff   \n",
      "-   --------       ------------   ----   \n",
      "1.0 1.00000000     1.00000000     0.0000\n",
      "2.0 1.41421356     1.41421356     0.0000\n",
      "3.0 1.73205081     1.73205081     0.0000\n",
      "4.0 2.00000000     2.00000000     0.0000\n",
      "5.0 2.23606798     2.23606798     0.0000\n",
      "6.0 2.44948974     2.44948974     0.0000\n",
      "7.0 2.64575131     2.64575131     0.0000\n",
      "8.0 2.82842712     2.82842712     0.0000\n",
      "9.0 3.00000000     3.00000000     0.0000\n"
     ]
    }
   ],
   "source": [
    "## Exersice 7.1\n",
    "\n",
    "import math\n",
    "\n",
    "def mysqrt(a):\n",
    "    \"\"\"\n",
    "    估算a的平方根\n",
    "    \"\"\"\n",
    "    x = int(a)\n",
    "    while True:\n",
    "        y = (x + a/x) / 2\n",
    "        if y == x:\n",
    "            return y\n",
    "        x = y\n",
    "        \n",
    "def test_squre_root():\n",
    "    \"\"\"\n",
    "    比较math.sqrt与mysqrt的差值\n",
    "    \"\"\"\n",
    "    print('a   mysqrt(a)      math.sqrt(a)   diff   ')\n",
    "    print('-   --------       ------------   ----   ')\n",
    "    for i in range(1, 10):\n",
    "        print('%.1f %.8f     %.8f     %.4f' %(i, mysqrt(i), math.sqrt(i),abs(mysqrt(i) - math.sqrt(i))) )\n",
    "    \n",
    "def main():\n",
    "    test_squre_root()\n",
    "    \n",
    "main()"
   ]
  },
  {
   "cell_type": "code",
   "execution_count": 10,
   "metadata": {},
   "outputs": [
    {
     "name": "stdout",
     "output_type": "stream",
     "text": [
      "请输入数学表达式: 1+5\n",
      "1+5 = 6\n",
      "请输入数学表达式: done\n",
      "6\n"
     ]
    }
   ],
   "source": [
    "## Exercise 7.2\n",
    "\n",
    "def eval_loop():\n",
    "    y = '刚进入就退出啊！'\n",
    "    while True:\n",
    "        x = input('请输入数学表达式: ')\n",
    "        if x == 'done':\n",
    "            return y\n",
    "        y = eval(x)\n",
    "        print(x,'=',y)\n",
    "    \n",
    "def main():\n",
    "    print(eval_loop())\n",
    "    \n",
    "main()"
   ]
  },
  {
   "cell_type": "code",
   "execution_count": 22,
   "metadata": {},
   "outputs": [
    {
     "name": "stdout",
     "output_type": "stream",
     "text": [
      "0.0\n"
     ]
    }
   ],
   "source": [
    "## Exercise 7.3\n",
    "\n",
    "import math\n",
    "\n",
    "def jiecheng(n):\n",
    "    if n == 0:\n",
    "        return 1\n",
    "    else:\n",
    "        return n*jiecheng(n-1)\n",
    "\n",
    "def estimate_pi():\n",
    "    \"\"\"\n",
    "    利用无穷级数来估算pi值\n",
    "    \"\"\"\n",
    "    \n",
    "    s = 0\n",
    "    t = 0\n",
    "    k = 0\n",
    "    \n",
    "    while True:\n",
    "        t = (jiecheng((4*k)) * (1103+26390*k) ) / (jiecheng(k)**4 * 396**(4*k) )\n",
    "        if t < 1e-15:\n",
    "            return 9801/(2*math.sqrt(2)*s)\n",
    "        s = s + t\n",
    "        k = k + 1\n",
    "    \n",
    "print(abs(estimate_pi()-math.pi))"
   ]
  },
  {
   "cell_type": "code",
   "execution_count": 20,
   "metadata": {},
   "outputs": [
    {
     "data": {
      "text/plain": [
       "1"
      ]
     },
     "execution_count": 20,
     "metadata": {},
     "output_type": "execute_result"
    }
   ],
   "source": [
    "1**(2*3)"
   ]
  }
 ],
 "metadata": {
  "kernelspec": {
   "display_name": "Python 3",
   "language": "python",
   "name": "python3"
  },
  "language_info": {
   "codemirror_mode": {
    "name": "ipython",
    "version": 3
   },
   "file_extension": ".py",
   "mimetype": "text/x-python",
   "name": "python",
   "nbconvert_exporter": "python",
   "pygments_lexer": "ipython3",
   "version": "3.6.1"
  }
 },
 "nbformat": 4,
 "nbformat_minor": 2
}
