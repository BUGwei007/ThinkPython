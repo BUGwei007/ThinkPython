{
 "cells": [
  {
   "cell_type": "code",
   "execution_count": 1,
   "metadata": {},
   "outputs": [
    {
     "data": {
      "text/plain": [
       "<module 'math' (built-in)>"
      ]
     },
     "execution_count": 1,
     "metadata": {},
     "output_type": "execute_result"
    }
   ],
   "source": [
    "import math\n",
    "math"
   ]
  },
  {
   "cell_type": "code",
   "execution_count": 4,
   "metadata": {},
   "outputs": [
    {
     "name": "stdout",
     "output_type": "stream",
     "text": [
      "0.644217687237691\n"
     ]
    }
   ],
   "source": [
    "import math\n",
    "radians = 0.7\n",
    "height = math.sin(radians)    ## 计算radians的值，函数默认接受弧度\n",
    "print(height)"
   ]
  },
  {
   "cell_type": "code",
   "execution_count": 6,
   "metadata": {},
   "outputs": [
    {
     "name": "stdout",
     "output_type": "stream",
     "text": [
      "0.7071067811865476\n"
     ]
    }
   ],
   "source": [
    "degrees = 45\n",
    "radians = degrees / 180 * math.pi    ## 将角度转化为弧度\n",
    "height = math.sin(radians)\n",
    "print(height)"
   ]
  },
  {
   "cell_type": "code",
   "execution_count": 7,
   "metadata": {},
   "outputs": [
    {
     "data": {
      "text/plain": [
       "0.7071067811865476"
      ]
     },
     "execution_count": 7,
     "metadata": {},
     "output_type": "execute_result"
    }
   ],
   "source": [
    "math.sqrt(2)/2"
   ]
  },
  {
   "cell_type": "code",
   "execution_count": 5,
   "metadata": {},
   "outputs": [
    {
     "name": "stdout",
     "output_type": "stream",
     "text": [
      "<function print_lyrics at 0x000001BD5CE20BF8>\n",
      "<class 'function'>\n",
      "I am yaming, and i learn python again.\n"
     ]
    }
   ],
   "source": [
    "def print_lyrics():\n",
    "    print('I am yaming, and i learn python again.')\n",
    "    \n",
    "print(print_lyrics)\n",
    "print(type(print_lyrics))\n",
    "print_lyrics()"
   ]
  },
  {
   "cell_type": "code",
   "execution_count": 7,
   "metadata": {},
   "outputs": [
    {
     "name": "stdout",
     "output_type": "stream",
     "text": [
      "I am yaming, and i learn python again.\n",
      "I am yaming, and i learn python again.\n"
     ]
    }
   ],
   "source": [
    "def repeat_lyrics():\n",
    "    print_lyrics()\n",
    "    print_lyrics()\n",
    "    \n",
    "repeat_lyrics()"
   ]
  },
  {
   "cell_type": "markdown",
   "metadata": {},
   "source": [
    "函数的定义与使用：\n",
    "先定义后使用！！!  \n",
    "下面的例子分析错误"
   ]
  },
  {
   "cell_type": "code",
   "execution_count": 8,
   "metadata": {},
   "outputs": [
    {
     "name": "stdout",
     "output_type": "stream",
     "text": [
      "I am yaming, and i learn python again.\n",
      "I am yaming, and i learn python again.\n"
     ]
    }
   ],
   "source": [
    "## 正确的例子\n",
    "def print_lyrics():\n",
    "    print('I am yaming, and i learn python again.')\n",
    "    \n",
    "def repeat_lyrics():\n",
    "    print_lyrics()\n",
    "    print_lyrics()\n",
    "    \n",
    "repeat_lyrics()"
   ]
  },
  {
   "cell_type": "code",
   "execution_count": 1,
   "metadata": {},
   "outputs": [
    {
     "ename": "NameError",
     "evalue": "name 'repeat_lyrics_test' is not defined",
     "output_type": "error",
     "traceback": [
      "\u001b[1;31m---------------------------------------------------------------------------\u001b[0m",
      "\u001b[1;31mNameError\u001b[0m                                 Traceback (most recent call last)",
      "\u001b[1;32m<ipython-input-1-cd56ae8cf91b>\u001b[0m in \u001b[0;36m<module>\u001b[1;34m()\u001b[0m\n\u001b[0;32m      1\u001b[0m \u001b[1;31m## 错误的例子，查看报错信息\u001b[0m\u001b[1;33m\u001b[0m\u001b[1;33m\u001b[0m\u001b[0m\n\u001b[1;32m----> 2\u001b[1;33m \u001b[0mrepeat_lyrics_test\u001b[0m\u001b[1;33m(\u001b[0m\u001b[1;33m)\u001b[0m\u001b[1;33m\u001b[0m\u001b[0m\n\u001b[0m\u001b[0;32m      3\u001b[0m \u001b[1;33m\u001b[0m\u001b[0m\n\u001b[0;32m      4\u001b[0m \u001b[1;32mdef\u001b[0m \u001b[0mprint_lyrics_test\u001b[0m\u001b[1;33m(\u001b[0m\u001b[1;33m)\u001b[0m\u001b[1;33m:\u001b[0m\u001b[1;33m\u001b[0m\u001b[0m\n\u001b[0;32m      5\u001b[0m     \u001b[0mprint\u001b[0m\u001b[1;33m(\u001b[0m\u001b[1;34m'I am yaming, and i learn python again.'\u001b[0m\u001b[1;33m)\u001b[0m\u001b[1;33m\u001b[0m\u001b[0m\n",
      "\u001b[1;31mNameError\u001b[0m: name 'repeat_lyrics_test' is not defined"
     ]
    }
   ],
   "source": [
    "## 错误的例子，查看报错信息\n",
    "repeat_lyrics_test()\n",
    "\n",
    "def print_lyrics_test():\n",
    "    print('I am yaming, and i learn python again.')\n",
    "    \n",
    "def repeat_lyrics_test():\n",
    "    print_lyrics_test()\n",
    "    print_lyrics_test()\n",
    "    "
   ]
  },
  {
   "cell_type": "markdown",
   "metadata": {
    "collapsed": true
   },
   "source": [
    "## 练习题"
   ]
  },
  {
   "cell_type": "code",
   "execution_count": 3,
   "metadata": {},
   "outputs": [
    {
     "name": "stdout",
     "output_type": "stream",
     "text": [
      "                                                                  year\n",
      "70\n"
     ]
    }
   ],
   "source": [
    "## 3.1\n",
    "\n",
    "def right_justify(s):\n",
    "    s_70 = ' '*(70-len(s)) + s\n",
    "    print(s_70)\n",
    "    print(len(s_70))\n",
    "    \n",
    "if __name__ == '__main__':\n",
    "    right_justify('year')"
   ]
  },
  {
   "cell_type": "code",
   "execution_count": 4,
   "metadata": {},
   "outputs": [
    {
     "name": "stdout",
     "output_type": "stream",
     "text": [
      "spam\n",
      "spam\n"
     ]
    }
   ],
   "source": [
    "## 3.2\n",
    "\n",
    "def do_twice(f):\n",
    "    f()\n",
    "    f()\n",
    "    \n",
    "def print_spam():\n",
    "    print('spam')\n",
    "    \n",
    "if __name__ == '__main__':\n",
    "    do_twice(print_spam)"
   ]
  },
  {
   "cell_type": "code",
   "execution_count": 9,
   "metadata": {},
   "outputs": [
    {
     "name": "stdout",
     "output_type": "stream",
     "text": [
      "spam\n",
      "spam\n"
     ]
    }
   ],
   "source": [
    "## 3.2\n",
    "## 修改do_twice函数\n",
    "\n",
    "def do_twice(f, s):\n",
    "    f(s)\n",
    "    f(s)\n",
    "    \n",
    "def print_spam(str):\n",
    "    print(str)\n",
    "    \n",
    "if __name__ == '__main__':\n",
    "    do_twice(print_spam, 'spam')"
   ]
  },
  {
   "cell_type": "code",
   "execution_count": 12,
   "metadata": {},
   "outputs": [
    {
     "name": "stdout",
     "output_type": "stream",
     "text": [
      "spam\n",
      "spam\n",
      "spam\n",
      "spam\n"
     ]
    }
   ],
   "source": [
    "## 3.2 \n",
    "## 调用print_twice，使之打印四次\n",
    "\n",
    "def print_twice(bruce):\n",
    "    print(bruce)\n",
    "    print(bruce)\n",
    "    \n",
    "def do_twice(f, s):\n",
    "    f(s)\n",
    "    f(s)\n",
    "\n",
    "if __name__ == '__main__':\n",
    "    do_twice(print_twice, 'spam')"
   ]
  },
  {
   "cell_type": "code",
   "execution_count": 5,
   "metadata": {},
   "outputs": [
    {
     "name": "stdout",
     "output_type": "stream",
     "text": [
      "spam\n",
      "spam\n",
      "spam\n",
      "spam\n",
      "spam\n",
      "spam\n",
      "spam\n",
      "spam\n"
     ]
    }
   ],
   "source": [
    "## 3.2\n",
    "## 定义do_four函数，传入一个函数和值，并调用这个函数四次\n",
    "## 说明：print_twice()函数一次打印输出两个，故调用四次，共打印输出八次\n",
    "def print_twice(bruce):\n",
    "    print(bruce)\n",
    "    print(bruce)\n",
    "\n",
    "def do_twice(func, arg):\n",
    "    func(arg)\n",
    "    func(arg)\n",
    "    \n",
    "def do_four(func, s):\n",
    "    do_twice(func, s)\n",
    "    do_twice(func, s)\n",
    "        \n",
    "if __name__ == '__main__':\n",
    "    do_four(print_twice, 'spam')"
   ]
  },
  {
   "cell_type": "code",
   "execution_count": 19,
   "metadata": {},
   "outputs": [
    {
     "name": "stdout",
     "output_type": "stream",
     "text": [
      "+ - - - - + - - - - - +\n",
      "|         |           |\n",
      "|         |           |\n",
      "|         |           |\n",
      "|         |           |\n",
      "+ - - - - + - - - - - +\n",
      "|         |           |\n",
      "|         |           |\n",
      "|         |           |\n",
      "|         |           |\n",
      "+ - - - - + - - - - - +\n"
     ]
    }
   ],
   "source": [
    "## 3.3\n",
    "\n",
    "def hen_line():\n",
    "    print('+','-','-','-','-','+','-','-','-','-','-','+')\n",
    "\n",
    "def shu_line():\n",
    "    print('|', end=' '*9)\n",
    "    print('|', end=' '*11)\n",
    "    print('|')\n",
    "    \n",
    "def do_func_times(func, times):\n",
    "    for i in range(times):\n",
    "        func()\n",
    "    \n",
    "    \n",
    "if __name__ == '__main__':\n",
    "    hen_line()\n",
    "    do_func_times(shu_line, 4)\n",
    "    hen_line()\n",
    "    do_func_times(shu_line, 4)\n",
    "    hen_line()"
   ]
  },
  {
   "cell_type": "code",
   "execution_count": 1,
   "metadata": {},
   "outputs": [
    {
     "name": "stdout",
     "output_type": "stream",
     "text": [
      "+ - -\n",
      "+   -\n"
     ]
    }
   ],
   "source": [
    "## 测试\n",
    "\n",
    "print('+','-','-')\n",
    "print('+', end=' '*3)\n",
    "print('-')"
   ]
  },
  {
   "cell_type": "code",
   "execution_count": 24,
   "metadata": {},
   "outputs": [
    {
     "name": "stdout",
     "output_type": "stream",
     "text": [
      "+ - - - - + - - - - - + - - - - - +\n",
      "|         |           |           |\n",
      "|         |           |           |\n",
      "|         |           |           |\n",
      "|         |           |           |\n",
      "+ - - - - + - - - - - + - - - - - +\n",
      "|         |           |           |\n",
      "|         |           |           |\n",
      "|         |           |           |\n",
      "|         |           |           |\n",
      "+ - - - - + - - - - - + - - - - - +\n",
      "|         |           |           |\n",
      "|         |           |           |\n",
      "|         |           |           |\n",
      "|         |           |           |\n",
      "+ - - - - + - - - - - + - - - - - +\n"
     ]
    }
   ],
   "source": [
    "## 3.3\n",
    "## 改进，打印四行四列\n",
    "\n",
    "def hen_line():\n",
    "    print('+','-','-','-','-','+','-','-','-','-','-','+','-','-','-','-','-','+')\n",
    "\n",
    "def shu_line():\n",
    "    print('|', end=' '*9)\n",
    "    print('|', end=' '*11)\n",
    "    print('|', end=' '*11)\n",
    "    print('|')\n",
    "    \n",
    "def do_func_times(func, times):\n",
    "    for i in range(times):\n",
    "        func()\n",
    "    \n",
    "    \n",
    "if __name__ == '__main__':\n",
    "    hen_line()\n",
    "    do_func_times(shu_line, 4)\n",
    "    hen_line()\n",
    "    do_func_times(shu_line, 4)\n",
    "    hen_line()\n",
    "    do_func_times(shu_line, 4)\n",
    "    hen_line()"
   ]
  },
  {
   "cell_type": "code",
   "execution_count": null,
   "metadata": {
    "collapsed": true
   },
   "outputs": [],
   "source": []
  }
 ],
 "metadata": {
  "kernelspec": {
   "display_name": "Python 3",
   "language": "python",
   "name": "python3"
  },
  "language_info": {
   "codemirror_mode": {
    "name": "ipython",
    "version": 3
   },
   "file_extension": ".py",
   "mimetype": "text/x-python",
   "name": "python",
   "nbconvert_exporter": "python",
   "pygments_lexer": "ipython3",
   "version": "3.6.1"
  }
 },
 "nbformat": 4,
 "nbformat_minor": 2
}
