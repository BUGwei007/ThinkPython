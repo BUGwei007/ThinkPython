{
 "cells": [
  {
   "cell_type": "code",
   "execution_count": 6,
   "metadata": {},
   "outputs": [
    {
     "data": {
      "text/plain": [
       "4"
      ]
     },
     "execution_count": 6,
     "metadata": {},
     "output_type": "execute_result"
    }
   ],
   "source": [
    "## 字符串查找\n",
    "\n",
    "def find_string(word, letter):\n",
    "    index = 0\n",
    "    while index < len(word):\n",
    "        if word[index] == letter:\n",
    "            return index\n",
    "        index += 1\n",
    "    return -1\n",
    "\n",
    "find_string('lista', 'a')"
   ]
  },
  {
   "cell_type": "code",
   "execution_count": 10,
   "metadata": {},
   "outputs": [
    {
     "data": {
      "text/plain": [
       "-1"
      ]
     },
     "execution_count": 10,
     "metadata": {},
     "output_type": "execute_result"
    }
   ],
   "source": [
    "## 可以设定从何处寻找\n",
    "\n",
    "def find_string(word, letter, index=0):\n",
    "    while index < len(word):\n",
    "        if word[index] == letter:\n",
    "            return index\n",
    "        index += 1\n",
    "    return -1\n",
    "\n",
    "find_string('lista', 'a', 5)"
   ]
  },
  {
   "cell_type": "code",
   "execution_count": 5,
   "metadata": {},
   "outputs": [
    {
     "data": {
      "text/plain": [
       "2"
      ]
     },
     "execution_count": 5,
     "metadata": {},
     "output_type": "execute_result"
    }
   ],
   "source": [
    "## 循环计数\n",
    "\n",
    "def count_letter(word, letter):\n",
    "    count = 0\n",
    "    for i in word:\n",
    "        if i == letter:\n",
    "            count += 1\n",
    "    return count\n",
    "\n",
    "count_letter('banan', 'a')"
   ]
  },
  {
   "cell_type": "code",
   "execution_count": 1,
   "metadata": {},
   "outputs": [
    {
     "name": "stdout",
     "output_type": "stream",
     "text": [
      "3\n"
     ]
    }
   ],
   "source": [
    "## 利用find函数重写count函数\n",
    "\n",
    "def find_string(word, letter, index=0, count=0):\n",
    "    while index < len(word):\n",
    "        if word[index] == letter:\n",
    "            count += 1\n",
    "        index += 1\n",
    "    return count\n",
    "\n",
    "def count(word, letter):\n",
    "    print(find_string(word, letter))\n",
    "    \n",
    "count('banana', 'a')"
   ]
  },
  {
   "cell_type": "code",
   "execution_count": 5,
   "metadata": {},
   "outputs": [
    {
     "name": "stdout",
     "output_type": "stream",
     "text": [
      "False\n",
      "True\n",
      "True\n",
      "True\n"
     ]
    }
   ],
   "source": [
    "## Exercise 8.3\n",
    "\n",
    "def is_palindrome(word):\n",
    "    return word == word[::-1]\n",
    "\n",
    "print(is_palindrome('allen'))\n",
    "print(is_palindrome(''))\n",
    "print(is_palindrome('otto'))\n",
    "print(is_palindrome('redivider'))"
   ]
  },
  {
   "cell_type": "code",
   "execution_count": 8,
   "metadata": {},
   "outputs": [
    {
     "name": "stdout",
     "output_type": "stream",
     "text": [
      "\n"
     ]
    },
    {
     "data": {
      "text/plain": [
       "'jolly'"
      ]
     },
     "execution_count": 8,
     "metadata": {},
     "output_type": "execute_result"
    }
   ],
   "source": [
    "## Exercise 8.5\n",
    "\n",
    "def rotate_word(word, num):\n",
    "    \"\"\"\n",
    "    将一个字符串整体偏移并返回。word为原字符串，offset为偏移量。仅对小写字符：a-z：97-122.\n",
    "    \"\"\"\n",
    "    n = 0\n",
    "    offset = num % 26\n",
    "    new_word = ''\n",
    "    while n < len(word):\n",
    "        new_word = new_word + chr(ord(word[n])+offset)\n",
    "        n += 1\n",
    "    return new_word\n",
    "\n",
    "print(rotate_word('cheer', 7))"
   ]
  },
  {
   "cell_type": "code",
   "execution_count": 23,
   "metadata": {},
   "outputs": [
    {
     "name": "stdout",
     "output_type": "stream",
     "text": [
      "jolly\n"
     ]
    }
   ],
   "source": [
    "## Exercise 8.5\n",
    "\n",
    "def rotate_word(word, offset):\n",
    "    \"\"\"\n",
    "    将一个字符串整体偏移并返回。word为原字符串，offset为偏移量。仅对小写字符：a-z：97-122.\n",
    "    \"\"\"\n",
    "    new_word = ''\n",
    "    for i in word:\n",
    "        new_word = new_word + chr((ord(i)+offset-97)%26+97)\n",
    "    return new_word\n",
    "\n",
    "print(rotate_word('cheer', 7))"
   ]
  },
  {
   "cell_type": "code",
   "execution_count": 28,
   "metadata": {},
   "outputs": [
    {
     "name": "stdout",
     "output_type": "stream",
     "text": [
      "cubed\n"
     ]
    }
   ],
   "source": [
    "## Exercise 8.5\n",
    "\n",
    "def rotate_word(word, offset):\n",
    "    \"\"\"\n",
    "    将一个字符串整体偏移并返回。word为原字符串，offset为偏移量。仅对小写字符：a-z：97-122.\n",
    "    \"\"\"\n",
    "    \n",
    "    new_word = ''\n",
    "    for i in word:\n",
    "        new_word = new_word + chr( (ord(i)-97+offset)%26+97 )\n",
    "    return new_word\n",
    "\n",
    "print(rotate_word('melon', -36))"
   ]
  },
  {
   "cell_type": "code",
   "execution_count": null,
   "metadata": {
    "collapsed": true
   },
   "outputs": [],
   "source": []
  }
 ],
 "metadata": {
  "kernelspec": {
   "display_name": "Python 3",
   "language": "python",
   "name": "python3"
  },
  "language_info": {
   "codemirror_mode": {
    "name": "ipython",
    "version": 3
   },
   "file_extension": ".py",
   "mimetype": "text/x-python",
   "name": "python",
   "nbconvert_exporter": "python",
   "pygments_lexer": "ipython3",
   "version": "3.6.1"
  }
 },
 "nbformat": 4,
 "nbformat_minor": 2
}
