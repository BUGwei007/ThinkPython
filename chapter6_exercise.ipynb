{
 "cells": [
  {
   "cell_type": "code",
   "execution_count": 2,
   "metadata": {},
   "outputs": [
    {
     "name": "stdout",
     "output_type": "stream",
     "text": [
      "9 90\n",
      "8100\n"
     ]
    }
   ],
   "source": [
    "# 6.1\n",
    "\n",
    "def b(z):\n",
    "    prod = a(z, z)\n",
    "    print(z, prod)\n",
    "    return prod\n",
    "\n",
    "def a(x, y):\n",
    "    x = x + 1\n",
    "    return x * y\n",
    "\n",
    "def c(x, y, z):\n",
    "    total = x + y + z\n",
    "    square = b(total)**2\n",
    "    return square\n",
    "\n",
    "x = 1\n",
    "y = x + 1\n",
    "print(c(x, y+3, x+y))"
   ]
  },
  {
   "cell_type": "code",
   "execution_count": 6,
   "metadata": {},
   "outputs": [
    {
     "name": "stdout",
     "output_type": "stream",
     "text": [
      "125\n"
     ]
    }
   ],
   "source": [
    "# 6.2 计算函数\n",
    "## 如果m和n的数值较大，很容易就达到递归最大深度\n",
    "\n",
    "def ack(m, n):\n",
    "    if m < 0:\n",
    "        print(\"ack function is for m > 0.\")\n",
    "        return None\n",
    "    elif m == 0:\n",
    "        return n + 1\n",
    "    elif m > 0 and n == 0:\n",
    "        return ack(m-1, 1)\n",
    "    elif m > 0 and n > 0:\n",
    "        return ack(m-1, ack(m, n-1))\n",
    "    else:\n",
    "        print(\"m or n is wrong.\")\n",
    "        return None\n",
    "    \n",
    "print(ack(3, 4))\n"
   ]
  },
  {
   "cell_type": "code",
   "execution_count": 8,
   "metadata": {},
   "outputs": [
    {
     "name": "stdout",
     "output_type": "stream",
     "text": [
      "125\n"
     ]
    }
   ],
   "source": [
    "# 6.2 答案的写法\n",
    "\n",
    "def ack(m, n):\n",
    "    \"\"\"Computes the Ackermann function A(m, n)\n",
    "    See http://en.wikipedia.org/wiki/Ackermann_function\n",
    "    n, m: non-negative integers\n",
    "    \"\"\"\n",
    "    if m == 0:\n",
    "        return n+1\n",
    "    if n == 0:\n",
    "        return ack(m-1, 1)\n",
    "    return ack(m-1, ack(m, n-1))\n",
    "\n",
    "print(ack(3, 4))"
   ]
  },
  {
   "cell_type": "code",
   "execution_count": 22,
   "metadata": {},
   "outputs": [
    {
     "name": "stdout",
     "output_type": "stream",
     "text": [
      "False\n",
      "True\n",
      "True\n",
      "True\n"
     ]
    }
   ],
   "source": [
    "# 6.3 判断回文词\n",
    "\n",
    "def is_palindrome(word):\n",
    "    if len(word) <= 1:\n",
    "        return True\n",
    "    if len(word) == 2:\n",
    "        return word[0] == word[-1]\n",
    "    if word[0] == word[-1]:\n",
    "        return is_palindrome(word[1:-1])\n",
    "    return False\n",
    "\n",
    "print(is_palindrome('allen'))\n",
    "print(is_palindrome('bob'))\n",
    "print(is_palindrome('otto'))\n",
    "print(is_palindrome('redivider'))"
   ]
  },
  {
   "cell_type": "code",
   "execution_count": 23,
   "metadata": {},
   "outputs": [
    {
     "name": "stdout",
     "output_type": "stream",
     "text": [
      "False\n",
      "True\n",
      "True\n",
      "True\n"
     ]
    }
   ],
   "source": [
    "# 6.3 答案的写法更为简洁\n",
    "\n",
    "def first(word):\n",
    "    \"\"\"Returns the first character of a string.\"\"\"\n",
    "    return word[0]\n",
    "\n",
    "def last(word):\n",
    "    \"\"\"Returns the last of a string.\"\"\"\n",
    "    return word[-1]\n",
    "\n",
    "def middle(word):\n",
    "    \"\"\"Returns all but the first and last characters of a string.\"\"\"\n",
    "    return word[1:-1]\n",
    "\n",
    "def is_palindrome(word):\n",
    "    \"\"\"Returns True if word is a palindrome.\"\"\"\n",
    "    if len(word) <= 1:\n",
    "        return True\n",
    "    if first(word) != last(word):\n",
    "        return False\n",
    "    return is_palindrome(middle(word))\n",
    "\n",
    "print(is_palindrome('allen'))\n",
    "print(is_palindrome('bob'))\n",
    "print(is_palindrome('otto'))\n",
    "print(is_palindrome('redivider'))"
   ]
  },
  {
   "cell_type": "code",
   "execution_count": 6,
   "metadata": {},
   "outputs": [
    {
     "name": "stdout",
     "output_type": "stream",
     "text": [
      "False\n",
      "True\n",
      "True\n",
      "True\n",
      "True\n",
      "True\n",
      "True\n",
      "False\n"
     ]
    }
   ],
   "source": [
    "#6.3 可以将自己写的第二种情况合并\n",
    "\n",
    "def is_palindrome(word):\n",
    "    if len(word) <= 1:\n",
    "        return True\n",
    "#     if len(word) == 2:\n",
    "#         return word[0] == word[-1]\n",
    "    if word[0] == word[-1]:\n",
    "        return is_palindrome(word[1:-1])\n",
    "    return False\n",
    "\n",
    "print(is_palindrome('allen'))\n",
    "print(is_palindrome('bob'))\n",
    "print(is_palindrome('otto'))\n",
    "print(is_palindrome('redivider'))\n",
    "print(is_palindrome('010'))\n",
    "print(is_palindrome('101'))\n",
    "print(is_palindrome('00'))\n",
    "print(is_palindrome('10'))"
   ]
  },
  {
   "cell_type": "code",
   "execution_count": 38,
   "metadata": {},
   "outputs": [
    {
     "name": "stdout",
     "output_type": "stream",
     "text": [
      "5\n"
     ]
    }
   ],
   "source": [
    "# 6.4 辗转相除法求两个数的最大公约数\n",
    "\n",
    "def gcd(a, b):\n",
    "    r = a%b\n",
    "    if r == 0:\n",
    "        return b\n",
    "    else:\n",
    "        return gcd(b, r)\n",
    "    \n",
    "print(gcd(20, 35))"
   ]
  },
  {
   "cell_type": "code",
   "execution_count": 39,
   "metadata": {},
   "outputs": [
    {
     "name": "stdout",
     "output_type": "stream",
     "text": [
      "get two number:a, b = 20,35\n",
      "20,35 的最大公约数为5, 最小公倍数为140。\n"
     ]
    }
   ],
   "source": [
    "# 求两个数的最小公倍数\n",
    "\n",
    "# 两个数相乘后，除以最大公约数\n",
    "\n",
    "def gcd(a, b):\n",
    "    r = a%b\n",
    "    if r == 0:\n",
    "        return b\n",
    "    else:\n",
    "        return gcd(b, r)\n",
    "    \n",
    "def gbs(a, b):\n",
    "    return a*b/gcd(a, b)\n",
    "\n",
    "a, b = eval(input('get two number:a, b = '))\n",
    "print('%d,%d 的最大公约数为%d, 最小公倍数为%d。' %(a, b, gcd(a, b), gbs(a, b)))"
   ]
  }
 ],
 "metadata": {
  "kernelspec": {
   "display_name": "Python 3",
   "language": "python",
   "name": "python3"
  },
  "language_info": {
   "codemirror_mode": {
    "name": "ipython",
    "version": 3
   },
   "file_extension": ".py",
   "mimetype": "text/x-python",
   "name": "python",
   "nbconvert_exporter": "python",
   "pygments_lexer": "ipython3",
   "version": "3.6.1"
  }
 },
 "nbformat": 4,
 "nbformat_minor": 2
}
