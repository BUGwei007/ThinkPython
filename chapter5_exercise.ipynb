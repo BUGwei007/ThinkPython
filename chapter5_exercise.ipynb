{
 "cells": [
  {
   "cell_type": "code",
   "execution_count": 1,
   "metadata": {},
   "outputs": [
    {
     "name": "stdout",
     "output_type": "stream",
     "text": [
      "from 1970.1.1 to now, second is 1564219979.433856, minute is 26070332, hour is 434505, day is 18104.\n"
     ]
    }
   ],
   "source": [
    "# 5.1 Unix系统中纪元是1970.1.1\n",
    "\n",
    "import time\n",
    "\n",
    "second = time.time()\n",
    "minute = second // 60\n",
    "hour = minute // 60\n",
    "day = hour // 24\n",
    "print('from 1970.1.1 to now, second is %f, minute is %d, hour is %d, day is %d.' %(second, minute, hour, day))"
   ]
  },
  {
   "cell_type": "code",
   "execution_count": 8,
   "metadata": {},
   "outputs": [
    {
     "name": "stdout",
     "output_type": "stream",
     "text": [
      "No, that doesn`t work.\n"
     ]
    }
   ],
   "source": [
    "# 5.2.1 验证费马大定理\n",
    "\n",
    "def check_fermat(a, b, c, n):\n",
    "    if n > 2 and a**n + b**n == c**n:\n",
    "        print('Holy smokes, Fermat was wrong.')\n",
    "    else:\n",
    "        print('No, that doesn`t work.')\n",
    "        \n",
    "check_fermat(a=4, b=2, c=3, n=3)"
   ]
  },
  {
   "cell_type": "code",
   "execution_count": 24,
   "metadata": {},
   "outputs": [
    {
     "name": "stdout",
     "output_type": "stream",
     "text": [
      "get four members, as 4,5,15,16. A,B,C,N = ...45,25,5,0\n",
      "No, that doesn`t work.\n"
     ]
    }
   ],
   "source": [
    "# 5.2.2 获取用户输入数值，验证是否违反费马大定理\n",
    "\n",
    "def check_fermat(a, b, c, n):\n",
    "    if n > 2 and a**n + b**n == c**n:\n",
    "        print('Holy smokes, Fermat was wrong.')\n",
    "    else:\n",
    "        print('No, that doesn`t work.')\n",
    "        \n",
    "def main():\n",
    "    A, B, C, N = eval(input('get four members, as 4,5,15,16. A,B,C,N = ...'))\n",
    "    check_fermat(A,B,C,N)\n",
    "    \n",
    "main()"
   ]
  },
  {
   "cell_type": "code",
   "execution_count": 26,
   "metadata": {},
   "outputs": [
    {
     "name": "stdout",
     "output_type": "stream",
     "text": [
      "Yes.\n"
     ]
    }
   ],
   "source": [
    "# 5.3.1 采用三个棍子长度中任意一个大于其他两者之和的检测标准判定是否构成三角形\n",
    "\n",
    "def is_triangle(a, b, c):\n",
    "    if a+b <c or a+c <b or b+c <a:\n",
    "        print('NO.')\n",
    "    else:\n",
    "        print('Yes.')\n",
    "        \n",
    "is_triangle(a=1, b=2, c=3)"
   ]
  },
  {
   "cell_type": "code",
   "execution_count": null,
   "metadata": {
    "collapsed": true
   },
   "outputs": [],
   "source": []
  }
 ],
 "metadata": {
  "kernelspec": {
   "display_name": "Python 3",
   "language": "python",
   "name": "python3"
  },
  "language_info": {
   "codemirror_mode": {
    "name": "ipython",
    "version": 3
   },
   "file_extension": ".py",
   "mimetype": "text/x-python",
   "name": "python",
   "nbconvert_exporter": "python",
   "pygments_lexer": "ipython3",
   "version": "3.6.1"
  }
 },
 "nbformat": 4,
 "nbformat_minor": 2
}
