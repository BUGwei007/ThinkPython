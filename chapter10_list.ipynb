{
 "cells": [
  {
   "cell_type": "code",
   "execution_count": 4,
   "metadata": {},
   "outputs": [
    {
     "name": "stdout",
     "output_type": "stream",
     "text": [
      "[2, 3]\n"
     ]
    }
   ],
   "source": [
    "## 修改列表而不是创建列表，才会对列表进行快速修改\n",
    "## 但是这种做法是有危险的，因为列表是可变的\n",
    "\n",
    "def tail(t):\n",
    "    t.pop(0)\n",
    "test = [1,2,3]\n",
    "tail(test)\n",
    "print(test)"
   ]
  },
  {
   "cell_type": "code",
   "execution_count": 6,
   "metadata": {},
   "outputs": [
    {
     "name": "stdout",
     "output_type": "stream",
     "text": [
      "[1, 2, 3]\n"
     ]
    }
   ],
   "source": [
    "## 创建列表不会修改列表\n",
    "\n",
    "def bad_delete_head(t):\n",
    "    t = t[1:]\n",
    "test = [1, 2, 3]\n",
    "bad_delete_head(test)\n",
    "print(test)"
   ]
  },
  {
   "cell_type": "code",
   "execution_count": 10,
   "metadata": {},
   "outputs": [
    {
     "name": "stdout",
     "output_type": "stream",
     "text": [
      "True\n",
      "[2, 3]\n"
     ]
    }
   ],
   "source": [
    "## 创建列表不会修改列表\n",
    "## 因为将列表作为一个参数传入函数，这是对列表的引用\n",
    "## 而创建列表则是创建新对象，并且函数中并不返回\n",
    "## 这个例子最后添加返回值便可，但是会浪费内存\n",
    "\n",
    "def bad_delete_head(t):\n",
    "    print(t is test)\n",
    "    t = t[1:]\n",
    "    return t\n",
    "test = [1, 2, 3]\n",
    "res = bad_delete_head(test)\n",
    "print(res)"
   ]
  },
  {
   "cell_type": "code",
   "execution_count": 37,
   "metadata": {},
   "outputs": [
    {
     "name": "stdout",
     "output_type": "stream",
     "text": [
      "21\n"
     ]
    }
   ],
   "source": [
    "## Exercise 10.1 \n",
    "\n",
    "def nested_sum(t):\n",
    "    count = 0\n",
    "    for i in t:\n",
    "        if isinstance(i, list):\n",
    "            count += nested_sum(i)\n",
    "        else:\n",
    "            count += i\n",
    "    return count\n",
    "\n",
    "def main():\n",
    "    t = [[1, [2]], [3], [4, [5, [6]]]]\n",
    "    total= 0\n",
    "    \n",
    "    total = nested_sum(t)\n",
    "    print(total)\n",
    "    \n",
    "main()\n"
   ]
  },
  {
   "cell_type": "code",
   "execution_count": 9,
   "metadata": {},
   "outputs": [
    {
     "name": "stdout",
     "output_type": "stream",
     "text": [
      "[1, 2, 3]\n",
      "[0, 1, 3, 6]\n"
     ]
    }
   ],
   "source": [
    "## 10.2\n",
    "\n",
    "def cumsum(t):\n",
    "    cumsum = [0,]\n",
    "    cum = 0\n",
    "    for i in t:\n",
    "        cum = cum + i\n",
    "        cumsum.append(cum)\n",
    "    return cumsum\n",
    "\n",
    "def main():\n",
    "    t = [1, 2 ,3]\n",
    "    cum = cumsum(t)\n",
    "    print(t, cum, sep='\\n')\n",
    "    \n",
    "main()\n",
    "    "
   ]
  },
  {
   "cell_type": "code",
   "execution_count": 10,
   "metadata": {},
   "outputs": [
    {
     "name": "stdout",
     "output_type": "stream",
     "text": [
      "[1, 2, 3]\n",
      "[0, 1, 3, 6]\n"
     ]
    }
   ],
   "source": [
    "## 10.2\n",
    "\n",
    "def cumsum(s, t):\n",
    "    return s + t\n",
    "\n",
    "def main():\n",
    "    t = [1, 2 ,3]\n",
    "    cum = [0,]\n",
    "    start = 0\n",
    "    for i in t:\n",
    "        start = cumsum(start, i)\n",
    "        cum.append(start)\n",
    "    print(t, cum, sep='\\n')\n",
    "main()\n",
    "    "
   ]
  },
  {
   "cell_type": "code",
   "execution_count": 17,
   "metadata": {},
   "outputs": [
    {
     "name": "stdout",
     "output_type": "stream",
     "text": [
      "[0, 1, 2, 3, 4, 5, 6, 7, 8, 9, 10]\n",
      "[1, 2, 3, 4, 5, 6, 7, 8, 9]\n"
     ]
    }
   ],
   "source": [
    "## 10.3  采用创建新列表\n",
    "\n",
    "def middle(t):\n",
    "    return t[1:len(t)-1]\n",
    "\n",
    "def main():\n",
    "    s = list(range(11))\n",
    "    mid = middle(s)\n",
    "    print(s, mid, sep='\\n')\n",
    "    \n",
    "main()"
   ]
  },
  {
   "cell_type": "code",
   "execution_count": 21,
   "metadata": {},
   "outputs": [
    {
     "name": "stdout",
     "output_type": "stream",
     "text": [
      "[0, 1, 2, 3, 4, 5, 6, 7, 8, 9, 10]\n",
      "[1, 2, 3, 4, 5, 6, 7, 8, 9]\n"
     ]
    }
   ],
   "source": [
    "## 10.4 引用原列表\n",
    "\n",
    "def chop(t):\n",
    "    t.pop(0)\n",
    "    t.pop()    ## 默认删除最后一项\n",
    "    \n",
    "def main():\n",
    "    s = list(range(11))\n",
    "    print(s)\n",
    "    chop(s)\n",
    "    print(s)\n",
    "    \n",
    "main()"
   ]
  },
  {
   "cell_type": "code",
   "execution_count": 41,
   "metadata": {},
   "outputs": [
    {
     "name": "stdout",
     "output_type": "stream",
     "text": [
      "False\n",
      "True\n"
     ]
    }
   ],
   "source": [
    "## 10.5\n",
    "\n",
    "def is_sorted(t):\n",
    "    previous = t[0]\n",
    "    i = 1\n",
    "    while i < len(t):\n",
    "        if t[i] < previous:\n",
    "            return False\n",
    "        previous = t[i]\n",
    "        i = i + 1\n",
    "    return True\n",
    "\n",
    "def main():\n",
    "    s1 = [1, 3, 2]\n",
    "    s2 = [1, 2, 3]\n",
    "    \n",
    "    print(is_sorted(s1))\n",
    "    print(is_sorted(s2))\n",
    "    \n",
    "main()"
   ]
  },
  {
   "cell_type": "code",
   "execution_count": 47,
   "metadata": {},
   "outputs": [
    {
     "name": "stdout",
     "output_type": "stream",
     "text": [
      "False\n",
      "True\n"
     ]
    }
   ],
   "source": [
    "## 10.5 \n",
    "\n",
    "def is_sorted(t):\n",
    "    return sorted(t) == t\n",
    "\n",
    "def main():\n",
    "    s1 = [1, 3, 2]\n",
    "    s2 = ['a', 'b', 'c']\n",
    "    \n",
    "    print(is_sorted(s1))\n",
    "    print(is_sorted(s2))\n",
    "    \n",
    "main()"
   ]
  },
  {
   "cell_type": "code",
   "execution_count": 45,
   "metadata": {},
   "outputs": [
    {
     "data": {
      "text/plain": [
       "[1, 2, 3]"
      ]
     },
     "execution_count": 45,
     "metadata": {},
     "output_type": "execute_result"
    }
   ],
   "source": [
    "sorted([1,3,2])"
   ]
  },
  {
   "cell_type": "code",
   "execution_count": null,
   "metadata": {
    "collapsed": true
   },
   "outputs": [],
   "source": []
  }
 ],
 "metadata": {
  "kernelspec": {
   "display_name": "Python 3",
   "language": "python",
   "name": "python3"
  },
  "language_info": {
   "codemirror_mode": {
    "name": "ipython",
    "version": 3
   },
   "file_extension": ".py",
   "mimetype": "text/x-python",
   "name": "python",
   "nbconvert_exporter": "python",
   "pygments_lexer": "ipython3",
   "version": "3.6.1"
  }
 },
 "nbformat": 4,
 "nbformat_minor": 2
}
