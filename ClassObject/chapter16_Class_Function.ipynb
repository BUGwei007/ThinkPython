{
 "cells": [
  {
   "cell_type": "code",
   "execution_count": 4,
   "metadata": {},
   "outputs": [],
   "source": [
    "## 16.1 时间\n",
    "\n",
    "class Time:\n",
    "    \"\"\"Represents the time of day.\n",
    "    arributes: hour, minute, second\n",
    "    \"\"\"\n",
    "\n",
    "time = Time()\n",
    "time.hour = 10\n",
    "time.minute = 41\n",
    "time.second = 29"
   ]
  },
  {
   "cell_type": "code",
   "execution_count": 5,
   "metadata": {},
   "outputs": [
    {
     "name": "stdout",
     "output_type": "stream",
     "text": [
      "10:41:29\n"
     ]
    }
   ],
   "source": [
    "def print_time(tm):\n",
    "    print('%.2d:%.2d:%.2d' % (tm.hour, tm.minute, tm.second))\n",
    "    \n",
    "print_time(time)"
   ]
  },
  {
   "cell_type": "code",
   "execution_count": 9,
   "metadata": {},
   "outputs": [
    {
     "name": "stdout",
     "output_type": "stream",
     "text": [
      "True\n"
     ]
    }
   ],
   "source": [
    "## t1 is after t2?\n",
    "## t1 and t2 both in the one day and 24h\n",
    "\n",
    "import copy\n",
    "\n",
    "def is_after(t1, t2):\n",
    "    time1 = t1.hour*3600 + t1.minute*60 + t1.second\n",
    "    time2 = t2.hour*3600 + t2.minute*60 + t2.second\n",
    "    \n",
    "    return time1 > time2\n",
    "\n",
    "t1 = copy.copy(time)\n",
    "t2 = copy.copy(time)\n",
    "t2.hour = 9\n",
    "t2.second = 59\n",
    "\n",
    "print(is_after(t1, t2))"
   ]
  },
  {
   "cell_type": "code",
   "execution_count": 10,
   "metadata": {},
   "outputs": [
    {
     "name": "stdout",
     "output_type": "stream",
     "text": [
      "10:80:00\n"
     ]
    }
   ],
   "source": [
    "## 16.2 纯函数\n",
    "\n",
    "def add_time(t1, t2):\n",
    "    sum = Time()\n",
    "    sum.hour = t1.hour + t2.hour\n",
    "    sum.minute = t1.minute + t2.minute \n",
    "    sum.second = t1.second + t2.second\n",
    "    return sum\n",
    "\n",
    "def main():\n",
    "    start = Time()\n",
    "    start.hour = 9\n",
    "    start.minute = 45\n",
    "    start.second = 0\n",
    "    \n",
    "    duration = Time()\n",
    "    duration.hour = 1\n",
    "    duration.minute = 35\n",
    "    duration.second = 0\n",
    "    \n",
    "    done = add_time(start, duration)\n",
    "    print_time(done)\n",
    "    \n",
    "main()"
   ]
  },
  {
   "cell_type": "code",
   "execution_count": 11,
   "metadata": {},
   "outputs": [
    {
     "name": "stdout",
     "output_type": "stream",
     "text": [
      "11:20:00\n"
     ]
    }
   ],
   "source": [
    "## 16.2 改进纯函数\n",
    "\n",
    "def add_time_modified(t1, t2):\n",
    "    sum = Time()\n",
    "    sum.hour = t1.hour + t2.hour\n",
    "    sum.minute = t1.minute + t2.minute \n",
    "    sum.second = t1.second + t2.second\n",
    "    \n",
    "    if sum.second >= 60:\n",
    "        sum.second -= 60\n",
    "        sum.minute += 1\n",
    "        \n",
    "    if sum.minute >= 60:\n",
    "        sum.minute -= 60\n",
    "        sum.hour += 1\n",
    "        \n",
    "    return sum\n",
    "\n",
    "def main():\n",
    "    start = Time()\n",
    "    start.hour = 9\n",
    "    start.minute = 45\n",
    "    start.second = 0\n",
    "    \n",
    "    duration = Time()\n",
    "    duration.hour = 1\n",
    "    duration.minute = 35\n",
    "    duration.second = 0\n",
    "    \n",
    "    done = add_time_modified(start, duration)\n",
    "    print_time(done)\n",
    "    \n",
    "main()"
   ]
  },
  {
   "cell_type": "code",
   "execution_count": 12,
   "metadata": {},
   "outputs": [],
   "source": [
    "## 16.3 修改器"
   ]
  },
  {
   "cell_type": "code",
   "execution_count": 14,
   "metadata": {},
   "outputs": [
    {
     "name": "stdout",
     "output_type": "stream",
     "text": [
      "True\n"
     ]
    }
   ],
   "source": [
    "## 16.4 原型与方案\n",
    "\n",
    "def time_to_int(time):\n",
    "    seconds = time.hour * 3600 + time.minute * 60 + time.second\n",
    "    return seconds\n",
    "\n",
    "def int_to_time(seconds):\n",
    "    time = Time()\n",
    "    minutes, time.second = divmod(seconds, 60)\n",
    "    time.hour, time.minute = divmod(minutes, 60)\n",
    "    return time\n",
    "\n",
    "def main():\n",
    "    \n",
    "    x = 3665\n",
    "    \n",
    "    print(time_to_int(int_to_time(x)) == x)\n",
    "    \n",
    "main()"
   ]
  },
  {
   "cell_type": "code",
   "execution_count": 15,
   "metadata": {},
   "outputs": [
    {
     "name": "stdout",
     "output_type": "stream",
     "text": [
      "11:20:00\n"
     ]
    }
   ],
   "source": [
    "## 重写 add_time\n",
    "\n",
    "def time_to_int(time):\n",
    "    seconds = time.hour * 3600 + time.minute * 60 + time.second\n",
    "    return seconds\n",
    "\n",
    "def int_to_time(seconds):\n",
    "    time = Time()\n",
    "    minutes, time.second = divmod(seconds, 60)\n",
    "    time.hour, time.minute = divmod(minutes, 60)\n",
    "    return time\n",
    "\n",
    "def add_time(t1, t2):\n",
    "    seconds = time_to_int(t1) + time_to_int(t2)\n",
    "    return int_to_time(seconds)\n",
    "\n",
    "def main():\n",
    "    \n",
    "    start = Time()\n",
    "    start.hour = 9\n",
    "    start.minute = 45\n",
    "    start.second = 0\n",
    "    \n",
    "    duration = Time()\n",
    "    duration.hour = 1\n",
    "    duration.minute = 35\n",
    "    duration.second = 0\n",
    "\n",
    "    print_time(add_time(start, duration))\n",
    "    \n",
    "main()"
   ]
  },
  {
   "cell_type": "code",
   "execution_count": 18,
   "metadata": {},
   "outputs": [
    {
     "ename": "ValueError",
     "evalue": "invalid Time object in add time.",
     "traceback": [
      "\u001b[1;31m---------------------------------------------------------------------------\u001b[0m",
      "\u001b[1;31mValueError\u001b[0m                                Traceback (most recent call last)",
      "\u001b[1;32m<ipython-input-18-33c171f63de7>\u001b[0m in \u001b[0;36m<module>\u001b[1;34m()\u001b[0m\n\u001b[0;32m     39\u001b[0m     \u001b[0mprint_time\u001b[0m\u001b[1;33m(\u001b[0m\u001b[0madd_time\u001b[0m\u001b[1;33m(\u001b[0m\u001b[0mstart\u001b[0m\u001b[1;33m,\u001b[0m \u001b[0mduration\u001b[0m\u001b[1;33m)\u001b[0m\u001b[1;33m)\u001b[0m\u001b[1;33m\u001b[0m\u001b[0m\n\u001b[0;32m     40\u001b[0m \u001b[1;33m\u001b[0m\u001b[0m\n\u001b[1;32m---> 41\u001b[1;33m \u001b[0mmain\u001b[0m\u001b[1;33m(\u001b[0m\u001b[1;33m)\u001b[0m\u001b[1;33m\u001b[0m\u001b[0m\n\u001b[0m",
      "\u001b[1;32m<ipython-input-18-33c171f63de7>\u001b[0m in \u001b[0;36mmain\u001b[1;34m()\u001b[0m\n\u001b[0;32m     37\u001b[0m     \u001b[0mduration\u001b[0m\u001b[1;33m.\u001b[0m\u001b[0msecond\u001b[0m \u001b[1;33m=\u001b[0m \u001b[1;36m0\u001b[0m\u001b[1;33m\u001b[0m\u001b[0m\n\u001b[0;32m     38\u001b[0m \u001b[1;33m\u001b[0m\u001b[0m\n\u001b[1;32m---> 39\u001b[1;33m     \u001b[0mprint_time\u001b[0m\u001b[1;33m(\u001b[0m\u001b[0madd_time\u001b[0m\u001b[1;33m(\u001b[0m\u001b[0mstart\u001b[0m\u001b[1;33m,\u001b[0m \u001b[0mduration\u001b[0m\u001b[1;33m)\u001b[0m\u001b[1;33m)\u001b[0m\u001b[1;33m\u001b[0m\u001b[0m\n\u001b[0m\u001b[0;32m     40\u001b[0m \u001b[1;33m\u001b[0m\u001b[0m\n\u001b[0;32m     41\u001b[0m \u001b[0mmain\u001b[0m\u001b[1;33m(\u001b[0m\u001b[1;33m)\u001b[0m\u001b[1;33m\u001b[0m\u001b[0m\n",
      "\u001b[1;32m<ipython-input-18-33c171f63de7>\u001b[0m in \u001b[0;36madd_time\u001b[1;34m(t1, t2)\u001b[0m\n\u001b[0;32m     21\u001b[0m \u001b[1;32mdef\u001b[0m \u001b[0madd_time\u001b[0m\u001b[1;33m(\u001b[0m\u001b[0mt1\u001b[0m\u001b[1;33m,\u001b[0m \u001b[0mt2\u001b[0m\u001b[1;33m)\u001b[0m\u001b[1;33m:\u001b[0m\u001b[1;33m\u001b[0m\u001b[0m\n\u001b[0;32m     22\u001b[0m     \u001b[1;32mif\u001b[0m \u001b[1;32mnot\u001b[0m \u001b[0mvalid\u001b[0m\u001b[1;33m(\u001b[0m\u001b[0mt1\u001b[0m\u001b[1;33m)\u001b[0m \u001b[1;32mor\u001b[0m \u001b[1;32mnot\u001b[0m \u001b[0mvalid\u001b[0m\u001b[1;33m(\u001b[0m\u001b[0mt2\u001b[0m\u001b[1;33m)\u001b[0m\u001b[1;33m:\u001b[0m\u001b[1;33m\u001b[0m\u001b[0m\n\u001b[1;32m---> 23\u001b[1;33m         \u001b[1;32mraise\u001b[0m \u001b[0mValueError\u001b[0m\u001b[1;33m(\u001b[0m\u001b[1;34m'invalid Time object in add time.'\u001b[0m\u001b[1;33m)\u001b[0m\u001b[1;33m\u001b[0m\u001b[0m\n\u001b[0m\u001b[0;32m     24\u001b[0m     \u001b[0mseconds\u001b[0m \u001b[1;33m=\u001b[0m \u001b[0mtime_to_int\u001b[0m\u001b[1;33m(\u001b[0m\u001b[0mt1\u001b[0m\u001b[1;33m)\u001b[0m \u001b[1;33m+\u001b[0m \u001b[0mtime_to_int\u001b[0m\u001b[1;33m(\u001b[0m\u001b[0mt2\u001b[0m\u001b[1;33m)\u001b[0m\u001b[1;33m\u001b[0m\u001b[0m\n\u001b[0;32m     25\u001b[0m     \u001b[1;32mreturn\u001b[0m \u001b[0mint_to_time\u001b[0m\u001b[1;33m(\u001b[0m\u001b[0mseconds\u001b[0m\u001b[1;33m)\u001b[0m\u001b[1;33m\u001b[0m\u001b[0m\n",
      "\u001b[1;31mValueError\u001b[0m: invalid Time object in add time."
     ],
     "output_type": "error"
    }
   ],
   "source": [
    "## 16.5 调试, 检测不变式\n",
    "\n",
    "def time_to_int(time):\n",
    "    seconds = time.hour * 3600 + time.minute * 60 + time.second\n",
    "    return seconds\n",
    "\n",
    "def int_to_time(seconds):\n",
    "    time = Time()\n",
    "    minutes, time.second = divmod(seconds, 60)\n",
    "    time.hour, time.minute = divmod(minutes, 60)\n",
    "    return time\n",
    "\n",
    "def valid_time(time):\n",
    "    \"\"\" 编写代码检查不变式帮助检测错误\"\"\"\n",
    "    if time.hour < 0 or time.minute < 0 or time.second < 0:\n",
    "        return False\n",
    "    if time.minute >= 60 or time.second > 60:\n",
    "        return False\n",
    "    return True\n",
    "\n",
    "def add_time(t1, t2):\n",
    "    if not valid_time(t1) or not valid_time(t2):\n",
    "        raise ValueError('invalid Time object in add time.')\n",
    "    seconds = time_to_int(t1) + time_to_int(t2)\n",
    "    return int_to_time(seconds)\n",
    "\n",
    "def main():\n",
    "    \n",
    "    start = Time()\n",
    "    start.hour = 9\n",
    "    start.minute = 65\n",
    "    start.second = 0\n",
    "    \n",
    "    duration = Time()\n",
    "    duration.hour = 1\n",
    "    duration.minute = 35\n",
    "    duration.second = 0\n",
    "\n",
    "    print_time(add_time(start, duration))\n",
    "    \n",
    "main()"
   ]
  },
  {
   "cell_type": "code",
   "execution_count": 23,
   "metadata": {},
   "outputs": [
    {
     "ename": "AssertionError",
     "evalue": "",
     "traceback": [
      "\u001b[1;31m---------------------------------------------------------------------------\u001b[0m",
      "\u001b[1;31mAssertionError\u001b[0m                            Traceback (most recent call last)",
      "\u001b[1;32m<ipython-input-23-f1500c335a30>\u001b[0m in \u001b[0;36m<module>\u001b[1;34m()\u001b[0m\n\u001b[0;32m     39\u001b[0m     \u001b[0mprint_time\u001b[0m\u001b[1;33m(\u001b[0m\u001b[0madd_time\u001b[0m\u001b[1;33m(\u001b[0m\u001b[0mstart\u001b[0m\u001b[1;33m,\u001b[0m \u001b[0mduration\u001b[0m\u001b[1;33m)\u001b[0m\u001b[1;33m)\u001b[0m\u001b[1;33m\u001b[0m\u001b[0m\n\u001b[0;32m     40\u001b[0m \u001b[1;33m\u001b[0m\u001b[0m\n\u001b[1;32m---> 41\u001b[1;33m \u001b[0mmain\u001b[0m\u001b[1;33m(\u001b[0m\u001b[1;33m)\u001b[0m\u001b[1;33m\u001b[0m\u001b[0m\n\u001b[0m",
      "\u001b[1;32m<ipython-input-23-f1500c335a30>\u001b[0m in \u001b[0;36mmain\u001b[1;34m()\u001b[0m\n\u001b[0;32m     37\u001b[0m     \u001b[0mduration\u001b[0m\u001b[1;33m.\u001b[0m\u001b[0msecond\u001b[0m \u001b[1;33m=\u001b[0m \u001b[1;36m0\u001b[0m\u001b[1;33m\u001b[0m\u001b[0m\n\u001b[0;32m     38\u001b[0m \u001b[1;33m\u001b[0m\u001b[0m\n\u001b[1;32m---> 39\u001b[1;33m     \u001b[0mprint_time\u001b[0m\u001b[1;33m(\u001b[0m\u001b[0madd_time\u001b[0m\u001b[1;33m(\u001b[0m\u001b[0mstart\u001b[0m\u001b[1;33m,\u001b[0m \u001b[0mduration\u001b[0m\u001b[1;33m)\u001b[0m\u001b[1;33m)\u001b[0m\u001b[1;33m\u001b[0m\u001b[0m\n\u001b[0m\u001b[0;32m     40\u001b[0m \u001b[1;33m\u001b[0m\u001b[0m\n\u001b[0;32m     41\u001b[0m \u001b[0mmain\u001b[0m\u001b[1;33m(\u001b[0m\u001b[1;33m)\u001b[0m\u001b[1;33m\u001b[0m\u001b[0m\n",
      "\u001b[1;32m<ipython-input-23-f1500c335a30>\u001b[0m in \u001b[0;36madd_time\u001b[1;34m(t1, t2)\u001b[0m\n\u001b[0;32m     21\u001b[0m \u001b[1;32mdef\u001b[0m \u001b[0madd_time\u001b[0m\u001b[1;33m(\u001b[0m\u001b[0mt1\u001b[0m\u001b[1;33m,\u001b[0m \u001b[0mt2\u001b[0m\u001b[1;33m)\u001b[0m\u001b[1;33m:\u001b[0m\u001b[1;33m\u001b[0m\u001b[0m\n\u001b[0;32m     22\u001b[0m     \u001b[1;34m\"\"\"assert 语句可以区分处理普通条件的代码和检查错误代码，在失败的条件下抛出异常\"\"\"\u001b[0m\u001b[1;33m\u001b[0m\u001b[0m\n\u001b[1;32m---> 23\u001b[1;33m     \u001b[1;32massert\u001b[0m \u001b[0mvalid_time\u001b[0m\u001b[1;33m(\u001b[0m\u001b[0mt1\u001b[0m\u001b[1;33m)\u001b[0m \u001b[1;32mand\u001b[0m \u001b[0mvalid_time\u001b[0m\u001b[1;33m(\u001b[0m\u001b[0mt2\u001b[0m\u001b[1;33m)\u001b[0m\u001b[1;33m\u001b[0m\u001b[0m\n\u001b[0m\u001b[0;32m     24\u001b[0m     \u001b[0mseconds\u001b[0m \u001b[1;33m=\u001b[0m \u001b[0mtime_to_int\u001b[0m\u001b[1;33m(\u001b[0m\u001b[0mt1\u001b[0m\u001b[1;33m)\u001b[0m \u001b[1;33m+\u001b[0m \u001b[0mtime_to_int\u001b[0m\u001b[1;33m(\u001b[0m\u001b[0mt2\u001b[0m\u001b[1;33m)\u001b[0m\u001b[1;33m\u001b[0m\u001b[0m\n\u001b[0;32m     25\u001b[0m     \u001b[1;32mreturn\u001b[0m \u001b[0mint_to_time\u001b[0m\u001b[1;33m(\u001b[0m\u001b[0mseconds\u001b[0m\u001b[1;33m)\u001b[0m\u001b[1;33m\u001b[0m\u001b[0m\n",
      "\u001b[1;31mAssertionError\u001b[0m: "
     ],
     "output_type": "error"
    }
   ],
   "source": [
    "## 16.5 调试, 检测不变式\n",
    "\n",
    "def time_to_int(time):\n",
    "    seconds = time.hour * 3600 + time.minute * 60 + time.second\n",
    "    return seconds\n",
    "\n",
    "def int_to_time(seconds):\n",
    "    time = Time()\n",
    "    minutes, time.second = divmod(seconds, 60)\n",
    "    time.hour, time.minute = divmod(minutes, 60)\n",
    "    return time\n",
    "\n",
    "def valid_time(time):\n",
    "    \"\"\" 编写代码检查不变式帮助检测错误\"\"\"\n",
    "    if time.hour < 0 or time.minute < 0 or time.second < 0:\n",
    "        return False\n",
    "    if time.minute >= 60 or time.second > 60:\n",
    "        return False\n",
    "    return True\n",
    "\n",
    "def add_time(t1, t2):\n",
    "    \"\"\"assert 语句可以区分处理普通条件的代码和检查错误代码，在失败的条件下抛出异常\"\"\"\n",
    "    assert valid_time(t1) and valid_time(t2)\n",
    "    seconds = time_to_int(t1) + time_to_int(t2)\n",
    "    return int_to_time(seconds)\n",
    "\n",
    "def main():\n",
    "    \n",
    "    start = Time()\n",
    "    start.hour = 9\n",
    "    start.minute = 65\n",
    "    start.second = 0\n",
    "    \n",
    "    duration = Time()\n",
    "    duration.hour = 1\n",
    "    duration.minute = 35\n",
    "    duration.second = 0\n",
    "\n",
    "    print_time(add_time(start, duration))\n",
    "    \n",
    "main()"
   ]
  },
  {
   "cell_type": "code",
   "execution_count": 11,
   "metadata": {},
   "outputs": [
    {
     "name": "stdout",
     "output_type": "stream",
     "text": [
      "08:04:27\n"
     ]
    }
   ],
   "source": [
    "## 16.7 练习__Exercise 16.1\n",
    "\n",
    "\n",
    "import copy\n",
    "\n",
    "\n",
    "def print_time(t):\n",
    "    print(\"%.2d:%.2d:%.2d\" % (t.hour, t.minute, t.second))\n",
    "    \n",
    "\n",
    "def valid_time(t):\n",
    "    if t.hour < 0 or t.minute < 0 or t.second < 0:\n",
    "        return False\n",
    "    if t. hour > 24 or t.minute >= 60 or t.second >= 60:\n",
    "        return False\n",
    "    return True\n",
    "\n",
    "\n",
    "def int_to_time(seconds):\n",
    "    t_next = Time()\n",
    "    t_next.minute, t_next.second = divmod(seconds, 60)\n",
    "    t_next.hour, t_next.minute = divmod(t_next.minute, 60)\n",
    "    t_next.hour = t_next.hour % 24\n",
    "    return t_next\n",
    "\n",
    "    \n",
    "def time_to_int(t):\n",
    "    seconds = t.hour * 3600 + t.minute * 60 + t.second\n",
    "    return seconds\n",
    "\n",
    "\n",
    "def mul_time(t, num):\n",
    "    if not valid_time(t):\n",
    "        raise ValueError(\"valid time object in mul_time.\")\n",
    "    mul_t = int_to_time(time_to_int(t) * num)\n",
    "    if not valid_time(mul_t):\n",
    "        raise ValueError(\"valid time pbject after mul the time.\")\n",
    "    return mul_t\n",
    "\n",
    "\n",
    "def main():\n",
    "    \n",
    "    te = copy.copy(time)\n",
    "    number = 3\n",
    "    \n",
    "    print_time(mul_time(te, number))\n",
    "\n",
    "main()"
   ]
  },
  {
   "cell_type": "code",
   "execution_count": 14,
   "metadata": {},
   "outputs": [
    {
     "name": "stdout",
     "output_type": "stream",
     "text": [
      "00:06:53\n"
     ]
    }
   ],
   "source": [
    "## 16.7 练习__Exercise 16.1\n",
    "## 返回一个表示平均配速的Time对象，即是每英里所需要的时间\n",
    "## 与第一章的习题对比观察\n",
    "\n",
    "\n",
    "import copy\n",
    "\n",
    "\n",
    "def print_time(t):\n",
    "    print(\"%.2d:%.2d:%.2d\" % (t.hour, t.minute, t.second))\n",
    "    \n",
    "\n",
    "def valid_time(t):\n",
    "    if t.hour < 0 or t.minute < 0 or t.second < 0:\n",
    "        return False\n",
    "    if t. hour > 24 or t.minute >= 60 or t.second >= 60:\n",
    "        return False\n",
    "    return True\n",
    "\n",
    "\n",
    "def int_to_time(seconds):\n",
    "    t_next = Time()\n",
    "    t_next.minute, t_next.second = divmod(seconds, 60)\n",
    "    t_next.hour, t_next.minute = divmod(t_next.minute, 60)\n",
    "    t_next.hour = t_next.hour % 24\n",
    "    return t_next\n",
    "\n",
    "    \n",
    "def time_to_int(t):\n",
    "    seconds = t.hour * 3600 + t.minute * 60 + t.second\n",
    "    return seconds\n",
    "\n",
    "\n",
    "def mul_time(t, dis):\n",
    "    if not valid_time(t):\n",
    "        raise ValueError(\"valid time object in mul_time.\")\n",
    "    mul_t = int_to_time(time_to_int(t) / dis)\n",
    "    if not valid_time(mul_t):\n",
    "        raise ValueError(\"valid time pbject after mul the time.\")\n",
    "    return mul_t\n",
    "\n",
    "\n",
    "def main():\n",
    "    \n",
    "    te = Time()\n",
    "    te.hour = 0\n",
    "    te.minute = 42\n",
    "    te.second = 42\n",
    "    \n",
    "    distance = 6.2\n",
    "    \n",
    "    print_time(mul_time(te, distance))\n",
    "\n",
    "main()"
   ]
  },
  {
   "cell_type": "code",
   "execution_count": 28,
   "metadata": {},
   "outputs": [
    {
     "name": "stdout",
     "output_type": "stream",
     "text": [
      "6\n"
     ]
    }
   ],
   "source": [
    "## 16.7 Exercise 16.2\n",
    "\n",
    "from datetime import datetime\n",
    "\n",
    "# nowtime = datetime.today()\n",
    "today = datetime.today()\n",
    "print(today.weekday())"
   ]
  }
 ],
 "metadata": {
  "kernelspec": {
   "display_name": "Python 3",
   "language": "python",
   "name": "python3"
  },
  "language_info": {
   "codemirror_mode": {
    "name": "ipython",
    "version": 3
   },
   "file_extension": ".py",
   "mimetype": "text/x-python",
   "name": "python",
   "nbconvert_exporter": "python",
   "pygments_lexer": "ipython3",
   "version": "3.6.1"
  }
 },
 "nbformat": 4,
 "nbformat_minor": 4
}
