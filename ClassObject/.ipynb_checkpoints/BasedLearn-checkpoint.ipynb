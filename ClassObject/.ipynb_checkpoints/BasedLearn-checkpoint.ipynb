{
 "cells": [
  {
   "cell_type": "code",
   "execution_count": 5,
   "metadata": {},
   "outputs": [],
   "source": [
    "# 定义一个对象\n",
    "class Point:\n",
    "    \"\"\" represents a point in 2-D space \"\"\""
   ]
  },
  {
   "cell_type": "code",
   "execution_count": 6,
   "metadata": {},
   "outputs": [
    {
     "data": {
      "text/plain": [
       "__main__.Point"
      ]
     },
     "execution_count": 6,
     "metadata": {},
     "output_type": "execute_result"
    }
   ],
   "source": [
    "# 定义这个类的同时，也创建了一个类对象\n",
    "Point"
   ]
  },
  {
   "cell_type": "code",
   "execution_count": 7,
   "metadata": {},
   "outputs": [
    {
     "data": {
      "text/plain": [
       "<__main__.Point at 0x27c073ab0b8>"
      ]
     },
     "execution_count": 7,
     "metadata": {},
     "output_type": "execute_result"
    }
   ],
   "source": [
    "# 引用这个对象，也称之为实例化\n",
    "blank = Point()\n",
    "blank   # 一个实例"
   ]
  },
  {
   "cell_type": "code",
   "execution_count": 8,
   "metadata": {},
   "outputs": [
    {
     "data": {
      "text/plain": [
       "3.0"
      ]
     },
     "execution_count": 8,
     "metadata": {},
     "output_type": "execute_result"
    }
   ],
   "source": [
    "# 实例的属性\n",
    "blank.x = 3.0\n",
    "blank.y = 4.0\n",
    "blank.x     # 读取一个属性的值"
   ]
  },
  {
   "cell_type": "code",
   "execution_count": 9,
   "metadata": {},
   "outputs": [
    {
     "data": {
      "text/plain": [
       "3.0"
      ]
     },
     "execution_count": 9,
     "metadata": {},
     "output_type": "execute_result"
    }
   ],
   "source": [
    "# 将属性赋给变量\n",
    "x = blank.x\n",
    "x"
   ]
  },
  {
   "cell_type": "code",
   "execution_count": 10,
   "metadata": {},
   "outputs": [
    {
     "data": {
      "text/plain": [
       "5.0"
      ]
     },
     "execution_count": 10,
     "metadata": {},
     "output_type": "execute_result"
    }
   ],
   "source": [
    "import math\n",
    "distance = math.sqrt(blank.x**2 + blank.y**2)\n",
    "distance"
   ]
  },
  {
   "cell_type": "code",
   "execution_count": 11,
   "metadata": {},
   "outputs": [
    {
     "name": "stdout",
     "output_type": "stream",
     "text": [
      "p.x is 3.0, p.y is 4.0\n"
     ]
    }
   ],
   "source": [
    "# 将一个实例作为参数传递\n",
    "def print_point(p):\n",
    "    print('p.x is %s, p.y is %s' % (p.x, p.y))\n",
    "print_point(blank)"
   ]
  },
  {
   "cell_type": "code",
   "execution_count": 12,
   "metadata": {},
   "outputs": [
    {
     "name": "stdout",
     "output_type": "stream",
     "text": [
      "p.x is 3.0, p.y is 4.0.\n",
      "now, blank.x is 4.0, blank.y is 4.0.\n"
     ]
    }
   ],
   "source": [
    "## 这里的p是对象的引用，修改p也会修改引用的对象\n",
    "\n",
    "def print_point(p):\n",
    "    print('p.x is %s, p.y is %s.' % (p.x, p.y))\n",
    "    p.x += 1\n",
    "    print('now, blank.x is %s, blank.y is %s.' %( blank.x, blank.y) )\n",
    "    \n",
    "print_point(blank)"
   ]
  },
  {
   "cell_type": "code",
   "execution_count": 13,
   "metadata": {},
   "outputs": [],
   "source": [
    "# 定义一个类\n",
    "class Rectangle:\n",
    "    \"\"\" Represents a rectangle.\n",
    "    attributes: width, height, corner.\n",
    "    \"\"\""
   ]
  },
  {
   "cell_type": "code",
   "execution_count": 14,
   "metadata": {},
   "outputs": [],
   "source": [
    "# 实例化一个Rectangle对象，描述矩形，并为属性赋值\n",
    "box = Rectangle()\n",
    "box.width = 100.0\n",
    "box.height = 200.0\n",
    "box.corner = Point()    # 嵌套：将一个对象作为另一个对象的属性\n",
    "box.corner.x = 0.0\n",
    "box.corner.y = 0.0"
   ]
  },
  {
   "cell_type": "code",
   "execution_count": 15,
   "metadata": {},
   "outputs": [
    {
     "name": "stdout",
     "output_type": "stream",
     "text": [
      "p.x is 50.0, p.y is 100.0.\n",
      "now, blank.x is 4.0, blank.y is 4.0.\n"
     ]
    }
   ],
   "source": [
    "# 将实例作为函数返回值\n",
    "def find_center(rect):\n",
    "    \"\"\" return the center of the Rectangle.\"\"\"\n",
    "    p = Point()\n",
    "    p.x = rect.corner.x + rect.width/2\n",
    "    p.y = rect.corner.y + rect.height/2\n",
    "    return p\n",
    "center = find_center(box)\n",
    "print_point(center)"
   ]
  },
  {
   "cell_type": "code",
   "execution_count": 16,
   "metadata": {},
   "outputs": [
    {
     "name": "stdout",
     "output_type": "stream",
     "text": [
      "100.0 200.0\n",
      "after change the width and height rectangle :\n",
      "150.0\n",
      "300.0\n"
     ]
    }
   ],
   "source": [
    "# 对象是可变的\n",
    "def grow_rectangle(rect, dwidth, dheight):\n",
    "    \"\"\" chang the width and height of the rectangle.\"\"\"\n",
    "    rect.width += dwidth\n",
    "    rect.height += dheight\n",
    "print(box.width, box.height)\n",
    "grow_rectangle(box, 50, 100)\n",
    "print(\"after change the width and height rectangle :\",box.width, box.height, sep='\\n')"
   ]
  },
  {
   "cell_type": "code",
   "execution_count": 17,
   "metadata": {},
   "outputs": [
    {
     "name": "stdout",
     "output_type": "stream",
     "text": [
      "0.0 0.0\n",
      "2.0 2.0\n"
     ]
    }
   ],
   "source": [
    "# 对象可以改变——移动矩形的起点\n",
    "def move_rectangle(rect, dx, dy):\n",
    "    \"\"\" change the position of a Rectangle\"\"\"\n",
    "    rect.corner.x += dx\n",
    "    rect.corner.y += dy\n",
    "print(box.corner.x, box.corner.y)\n",
    "move_rectangle(box, 2, 2)\n",
    "print(box.corner.x, box.corner.y)"
   ]
  },
  {
   "cell_type": "code",
   "execution_count": 18,
   "metadata": {},
   "outputs": [
    {
     "name": "stdout",
     "output_type": "stream",
     "text": [
      "p.x is 3.0, p.y is 4.0.\n",
      "now, blank.x is 4.0, blank.y is 4.0.\n",
      "p.x is 3.0, p.y is 4.0.\n",
      "now, blank.x is 4.0, blank.y is 4.0.\n",
      "False\n",
      "False\n"
     ]
    }
   ],
   "source": [
    "# 复制对象——使其效率更高\n",
    "import copy\n",
    "p1 = Point()    # 实例化\n",
    "p1.x = 3.0\n",
    "p1.y = 4.0\n",
    "\n",
    "p2 = copy.copy(p1)  # 复制一个对象,数据相同，但不是同一个数据\n",
    "print_point(p1)\n",
    "print_point(p2)\n",
    "\n",
    "print(p1 is p2)     # 并不是同一个对象\n",
    "print(p1 == p2)     # 对象的标识符不同，并不是同一个对象"
   ]
  },
  {
   "cell_type": "code",
   "execution_count": 19,
   "metadata": {},
   "outputs": [
    {
     "name": "stdout",
     "output_type": "stream",
     "text": [
      "False\n",
      "True\n"
     ]
    }
   ],
   "source": [
    "# 浅复制——只复制当前对象以及其包含的引用，并不复制嵌套的对象\n",
    "box2 = copy.copy(box)\n",
    "print(box2 is box)      # 并非同一个对象\n",
    "print(box2.corner is box.corner)    # 是同一个对象"
   ]
  },
  {
   "cell_type": "code",
   "execution_count": 20,
   "metadata": {},
   "outputs": [
    {
     "name": "stdout",
     "output_type": "stream",
     "text": [
      "False\n",
      "False\n"
     ]
    }
   ],
   "source": [
    "# 深复制——复制对象的所有内容\n",
    "box3 = copy.deepcopy(box)\n",
    "print(box3 is box)\n",
    "print(box3.corner is box.corner)"
   ]
  },
  {
   "cell_type": "code",
   "execution_count": 21,
   "metadata": {},
   "outputs": [
    {
     "name": "stdout",
     "output_type": "stream",
     "text": [
      "<__main__.Rectangle object at 0x0000027C073CBEB8> <__main__.Point object at 0x0000027C073CBF28> \n",
      " 4.0 4.0\n"
     ]
    }
   ],
   "source": [
    "# 修改原来的move_rectangle,使其返回一个新的Rectangle对象并非原来修改的那个\n",
    "def new_move_rectangle(rect, dx, dy):\n",
    "    \"\"\" change the position of a rectangle, and return a new rectangle objext\"\"\"\n",
    "    new_rect = copy.deepcopy(rect)\n",
    "    new_rect.corner.x += dx\n",
    "    new_rect.corner.y += dy\n",
    "    return new_rect\n",
    "box4 = new_move_rectangle(box, 2, 2)\n",
    "print(box4, box4.corner, '\\n', box4.corner.x, box4.corner.y)"
   ]
  },
  {
   "cell_type": "code",
   "execution_count": 22,
   "metadata": {},
   "outputs": [
    {
     "ename": "AttributeError",
     "evalue": "'Point' object has no attribute 'z'",
     "output_type": "error",
     "traceback": [
      "\u001b[1;31m---------------------------------------------------------------------------\u001b[0m",
      "\u001b[1;31mAttributeError\u001b[0m                            Traceback (most recent call last)",
      "\u001b[1;32m<ipython-input-22-82c9f855c13b>\u001b[0m in \u001b[0;36m<module>\u001b[1;34m()\u001b[0m\n\u001b[0;32m      3\u001b[0m \u001b[0mp\u001b[0m\u001b[1;33m.\u001b[0m\u001b[0mx\u001b[0m \u001b[1;33m=\u001b[0m \u001b[1;36m3\u001b[0m\u001b[1;33m\u001b[0m\u001b[0m\n\u001b[0;32m      4\u001b[0m \u001b[0mp\u001b[0m\u001b[1;33m.\u001b[0m\u001b[0my\u001b[0m \u001b[1;33m=\u001b[0m \u001b[1;36m4\u001b[0m\u001b[1;33m\u001b[0m\u001b[0m\n\u001b[1;32m----> 5\u001b[1;33m \u001b[0mp\u001b[0m\u001b[1;33m.\u001b[0m\u001b[0mz\u001b[0m\u001b[1;33m\u001b[0m\u001b[0m\n\u001b[0m",
      "\u001b[1;31mAttributeError\u001b[0m: 'Point' object has no attribute 'z'"
     ]
    }
   ],
   "source": [
    "# 简单的调试功能——属性不存在\n",
    "p = Point()\n",
    "p.x = 3\n",
    "p.y = 4\n",
    "p.z"
   ]
  },
  {
   "cell_type": "code",
   "execution_count": 23,
   "metadata": {},
   "outputs": [
    {
     "data": {
      "text/plain": [
       "__main__.Point"
      ]
     },
     "execution_count": 23,
     "metadata": {},
     "output_type": "execute_result"
    }
   ],
   "source": [
    "# 询问某个对象的类型\n",
    "type(p)"
   ]
  },
  {
   "cell_type": "code",
   "execution_count": 24,
   "metadata": {},
   "outputs": [
    {
     "data": {
      "text/plain": [
       "True"
      ]
     },
     "execution_count": 24,
     "metadata": {},
     "output_type": "execute_result"
    }
   ],
   "source": [
    "# 检查某个对象是不是某个类的实例\n",
    "isinstance(p, Point)"
   ]
  },
  {
   "cell_type": "code",
   "execution_count": 25,
   "metadata": {},
   "outputs": [
    {
     "data": {
      "text/plain": [
       "False"
      ]
     },
     "execution_count": 25,
     "metadata": {},
     "output_type": "execute_result"
    }
   ],
   "source": [
    "# 检查对象是否拥有某个属性\n",
    "hasattr(p, 'x')\n",
    "hasattr(p, 'z')"
   ]
  },
  {
   "cell_type": "code",
   "execution_count": 26,
   "metadata": {},
   "outputs": [
    {
     "name": "stdout",
     "output_type": "stream",
     "text": [
      "3\n"
     ]
    }
   ],
   "source": [
    "# 使用try语句检查某个对象是否有相应的属性\n",
    "try:\n",
    "    x = p.x\n",
    "except AttributeError:\n",
    "    x = 0\n",
    "print(x)"
   ]
  },
  {
   "cell_type": "code",
   "execution_count": 27,
   "metadata": {},
   "outputs": [
    {
     "name": "stdout",
     "output_type": "stream",
     "text": [
      "0\n"
     ]
    }
   ],
   "source": [
    "try:\n",
    "    z = p.z\n",
    "except AttributeError:\n",
    "    z = 0\n",
    "print(z)"
   ]
  },
  {
   "cell_type": "markdown",
   "metadata": {},
   "source": [
    "## 15.9 练习"
   ]
  },
  {
   "cell_type": "code",
   "execution_count": 21,
   "metadata": {},
   "outputs": [],
   "source": [
    "## 注意类的首字母一般大写\n",
    "\n",
    "class Circle:\n",
    "    \"\"\" Represent a circle.\n",
    "    Attributes: the center point and radius.\n",
    "    \"\"\"\n",
    "\n",
    "\n",
    "class Point:\n",
    "    \"\"\" Represent a point.\n",
    "    Attribtes: x and y.\n",
    "    \"\"\"\n",
    "    \n",
    "\n",
    "class Rectangle:\n",
    "    \"\"\" Represent a rectangle.\n",
    "    Attributes: the left start point, width and height.\n",
    "    \"\"\"\n",
    "    \n",
    "ex15 = Circle()\n",
    "ex15.radius = 75\n",
    "ex15.center = Point()\n",
    "ex15.center.x = 150\n",
    "ex15.center.y = 100\n",
    "\n",
    "rec_test = Rectangle()\n",
    "rec_test.leftstart = Point()\n",
    "    \n",
    "rec_test.leftstart.x = 120\n",
    "rec_test.leftstart.y = 70\n",
    "rec_test.width = 50\n",
    "rec_test.height = 60"
   ]
  },
  {
   "cell_type": "code",
   "execution_count": 9,
   "metadata": {},
   "outputs": [
    {
     "data": {
      "text/plain": [
       "True"
      ]
     },
     "execution_count": 9,
     "metadata": {},
     "output_type": "execute_result"
    }
   ],
   "source": [
    "## 判断一个点是否在圆内\n",
    "\n",
    "from math import sqrt\n",
    "\n",
    "\n",
    "def point_in_circle(cir, poi):\n",
    "    \"\"\" judge a point whether inside a circle.\n",
    "    cir: Circle object\n",
    "    poi: Point object\n",
    "    \"\"\"\n",
    "    dis = sqrt((cir.center.x-poi.x)**2 + (cir.center.y-poi.y)*2)\n",
    "   \n",
    "    return dis < cir.radius\n",
    "\n",
    "test = Point()\n",
    "test.x = 120\n",
    "test.y = 145\n",
    "point_in_circle(ex15, test)"
   ]
  },
  {
   "cell_type": "code",
   "execution_count": 17,
   "metadata": {},
   "outputs": [
    {
     "name": "stdout",
     "output_type": "stream",
     "text": [
      "矩形在圆内！！！\n"
     ]
    }
   ],
   "source": [
    "## 判断一个矩形是否在圆内\n",
    "## 分析：只要矩形的对角两个点都在圆内，那该矩形一定在圆内\n",
    "\n",
    "from math import sqrt\n",
    "import copy\n",
    "\n",
    "\n",
    "def find_right_point(rec):\n",
    "    \"\"\" get the right point for the rectangle.\n",
    "    rec: Rectangel object.\n",
    "    \"\"\"\n",
    "    right_point = Point()\n",
    "    right_point.x = rec.leftstart.x + rec.width\n",
    "    right_point.y = rec.leftstart.y + rec.height\n",
    "    return right_point\n",
    "\n",
    "def judge(cir, poi):\n",
    "    \"\"\" cehck the rectangle whther on the circle or on the boundary.\n",
    "    cir: Circle object.\n",
    "    poi: Point object.\n",
    "    \"\"\"\n",
    "    distance = sqrt( (cir.center.x - poi.x)**2 + (cir.center.y - poi.y)**2 )\n",
    "    return distance <= cir.radius\n",
    "\n",
    "def main():\n",
    "    test = copy.deepcopy(ex15)\n",
    "    rec_test = Rectangle()\n",
    "    rec_test.leftstart = Point()\n",
    "    \n",
    "    rec_test.leftstart.x = 120\n",
    "    rec_test.leftstart.y = 70\n",
    "    rec_test.width = 50\n",
    "    rec_test.height = 60\n",
    "\n",
    "    if judge(test, rec_test.leftstart) and judge(test, find_right_point(rec_test)):\n",
    "        print('矩形在圆内！！！')\n",
    "    else:\n",
    "        print('矩形在圆外！！！')\n",
    "        \n",
    "main()"
   ]
  },
  {
   "cell_type": "code",
   "execution_count": 25,
   "metadata": {},
   "outputs": [
    {
     "name": "stdout",
     "output_type": "stream",
     "text": [
      "120 70\n",
      "True\n"
     ]
    }
   ],
   "source": [
    "## 判断矩形的某个角落是否在圆内\n",
    "## 也就是说，判断四个角是否落入圆内\n",
    "\n",
    "from math import sqrt\n",
    "import copy\n",
    "\n",
    "def judge_point_circle(poi, cir):\n",
    "    \"\"\" cehck the rectangle whther on the circle or on the boundary.\n",
    "    cir: Circle object.\n",
    "    poi: Point object.\n",
    "    \"\"\"\n",
    "    distance = sqrt( (cir.center.x - poi.x)**2 + (cir.center.y - poi.y)**2 )\n",
    "    return distance <= cir.radius\n",
    "\n",
    "\n",
    "def rec_in_circle(rect, circle):\n",
    "    \"\"\"check whether the corner of a rect fall in/on a circle.\n",
    "    rect: Rectangle object\n",
    "    circle: Circle object\n",
    "    \"\"\"\n",
    "    \n",
    "    print(rect.leftstart.x, rect.leftstart.y)\n",
    "    if judge_point_circle(rect.leftstart, circle):\n",
    "        return True\n",
    "    \n",
    "    rect.leftstart.x += rect.width\n",
    "    print(rect.leftstart)\n",
    "    if judge_point_circle(rect.leftstart, circle):\n",
    "        return True\n",
    "    \n",
    "    rect.leftstart.y += rect.height\n",
    "    print(rect.leftstart)\n",
    "    if judge_point_circle(rect.leftstart, circle):\n",
    "        return True\n",
    "    \n",
    "    rect.leftstart.x -= rect.width\n",
    "    print(rect.leftstart)\n",
    "    if judge_point_circle(rect.leftstart, circle):\n",
    "        return True\n",
    "    \n",
    "    rect.leftstart.y -= rect.height\n",
    "    print(rect.leftstart)\n",
    "    return False\n",
    "    \n",
    "\n",
    "def main():\n",
    "    \n",
    "    item_circle = copy.deepcopy(ex15)\n",
    "    \n",
    "    rectangle = copy.deepcopy(rec_test)\n",
    "    \n",
    "    print(rec_in_circle(rectangle, item_circle))\n",
    "    \n",
    "main()    \n",
    "    "
   ]
  },
  {
   "cell_type": "code",
   "execution_count": 27,
   "metadata": {},
   "outputs": [
    {
     "name": "stdout",
     "output_type": "stream",
     "text": [
      "0 0\n",
      "50 0\n",
      "50 60\n",
      "0 60\n",
      "0 0\n",
      "False\n"
     ]
    }
   ],
   "source": [
    "## 判断矩形的某个角落是否在圆内\n",
    "## 也就是说，判断四个角是否落入圆内\n",
    "\n",
    "from math import sqrt\n",
    "import copy\n",
    "\n",
    "def judge_point_circle(poi, cir):\n",
    "    \"\"\" cehck the rectangle whther on the circle or on the boundary.\n",
    "    cir: Circle object.\n",
    "    poi: Point object.\n",
    "    \"\"\"\n",
    "    distance = sqrt( (cir.center.x - poi.x)**2 + (cir.center.y - poi.y)**2 )\n",
    "    return distance <= cir.radius\n",
    "\n",
    "\n",
    "def rec_in_circle(rect, circle):\n",
    "    \"\"\"check whether the corner of a rect fall in/on a circle.\n",
    "    rect: Rectangle object\n",
    "    circle: Circle object\n",
    "    \"\"\"\n",
    "    \n",
    "    print(rect.leftstart.x, rect.leftstart.y)\n",
    "    if judge_point_circle(rect.leftstart, circle):\n",
    "        return True\n",
    "    \n",
    "    rect.leftstart.x += rect.width\n",
    "    print(rect.leftstart.x, rect.leftstart.y)\n",
    "    if judge_point_circle(rect.leftstart, circle):\n",
    "        return True\n",
    "    \n",
    "    rect.leftstart.y += rect.height\n",
    "    print(rect.leftstart.x, rect.leftstart.y)\n",
    "    if judge_point_circle(rect.leftstart, circle):\n",
    "        return True\n",
    "    \n",
    "    rect.leftstart.x -= rect.width\n",
    "    print(rect.leftstart.x, rect.leftstart.y)\n",
    "    if judge_point_circle(rect.leftstart, circle):\n",
    "        return True\n",
    "    \n",
    "    rect.leftstart.y -= rect.height\n",
    "    print(rect.leftstart.x, rect.leftstart.y)\n",
    "    return False\n",
    "    \n",
    "\n",
    "def main():\n",
    "    \n",
    "    item_circle = copy.deepcopy(ex15)\n",
    "    \n",
    "    rectangle = copy.deepcopy(rec_test)\n",
    "    rectangle.leftstart.x = 0\n",
    "    rectangle.leftstart.y = 0\n",
    "    \n",
    "    print(rec_in_circle(rectangle, item_circle))\n",
    "    \n",
    "main()"
   ]
  },
  {
   "cell_type": "code",
   "execution_count": 7,
   "metadata": {},
   "outputs": [
    {
     "name": "stdout",
     "output_type": "stream",
     "text": [
      "50.0\n",
      "50.0\n",
      "120.0\n",
      "120.0\n",
      "5.0\n",
      "98.99494936611666\n",
      "False\n",
      "50.0 50.0\n",
      "98.99494936611666\n",
      "False\n",
      "50.0 50.0\n",
      "98.99494936611666\n",
      "150.0 50.0\n",
      "76.15773105863909\n",
      "150.0 -150.0\n",
      "271.6615541441225\n",
      "50.0 -150.0\n",
      "278.9265136196271\n",
      "False\n"
     ]
    }
   ],
   "source": [
    "## 答案版本\n",
    "\n",
    "\"\"\"This module contains a code example related to\n",
    "\n",
    "Think Python, 2nd Edition\n",
    "by Allen Downey\n",
    "http://thinkpython2.com\n",
    "\n",
    "Copyright 2015 Allen Downey\n",
    "\n",
    "License: http://creativecommons.org/licenses/by/4.0/\n",
    "\"\"\"\n",
    "\n",
    "from __future__ import print_function, division\n",
    "\n",
    "import copy\n",
    "from math import sqrt\n",
    "\n",
    "# from Point1 import Point, Rectangle, print_point\n",
    "# from Point1_soln import distance_between_points\n",
    "\n",
    "\n",
    "class Circle:\n",
    "    \"\"\"Represents a circle.\n",
    "\n",
    "    Attributes: center, radius\n",
    "    \"\"\"\n",
    "\n",
    "\n",
    "class Rectangle:\n",
    "    \"\"\"Represents a rectangle.\n",
    "    Attributes: corner, width and height.\"\"\"\n",
    "    \n",
    "    \n",
    "class Point:\n",
    "    \"\"\"Represents a point.\n",
    "    Attrbutes: x and y.\"\"\"\n",
    "    \n",
    "\n",
    "def print_point(p):\n",
    "    print(p.x, p.y)\n",
    "    \n",
    "    \n",
    "def point_in_circle(point, circle):\n",
    "    \"\"\"Checks whether a point lies inside a circle (or on the boundary).\n",
    "\n",
    "    point: Point object\n",
    "    circle: Circle object\n",
    "    \"\"\"\n",
    "    d = sqrt((point.x-circle.center.x)**2 + (point.y-circle.center.y)**2)\n",
    "    print(d)\n",
    "    return d <= circle.radius\n",
    "\n",
    "\n",
    "def rect_in_circle(rect, circle):\n",
    "    \"\"\"Checks whether the corners of a rect fall in/on a circle.\n",
    "\n",
    "    rect: Rectangle object\n",
    "    circle: Circle object\n",
    "    \"\"\"\n",
    "    p = copy.copy(rect.corner)\n",
    "    print_point(p)\n",
    "    if not point_in_circle(p, circle):\n",
    "        return False\n",
    "\n",
    "    p.x += rect.width\n",
    "    print_point(p)\n",
    "    if not point_in_circle(p, circle):\n",
    "        return False\n",
    "\n",
    "    p.y -= rect.height\n",
    "    print_point(p)\n",
    "    if not point_in_circle(p, circle):\n",
    "        return False\n",
    "\n",
    "    p.x -= rect.width\n",
    "    print_point(p)\n",
    "    if not point_in_circle(p, circle):\n",
    "        return False\n",
    "\n",
    "    return True\n",
    "\n",
    "\n",
    "def rect_circle_overlap(rect, circle):\n",
    "    \"\"\"Checks whether any corners of a rect fall in/on a circle.\n",
    "\n",
    "    rect: Rectangle object\n",
    "    circle: Circle object\n",
    "    \"\"\"\n",
    "    p = copy.copy(rect.corner)\n",
    "    print_point(p)\n",
    "    if point_in_circle(p, circle):\n",
    "        return True\n",
    "\n",
    "    p.x += rect.width\n",
    "    print_point(p)\n",
    "    if point_in_circle(p, circle):\n",
    "        return True\n",
    "\n",
    "    p.y -= rect.height\n",
    "    print_point(p)\n",
    "    if point_in_circle(p, circle):\n",
    "        return True\n",
    "\n",
    "    p.x -= rect.width\n",
    "    print_point(p)\n",
    "    if point_in_circle(p, circle):\n",
    "        return True\n",
    "\n",
    "    return False\n",
    "\n",
    "\n",
    "def main():\n",
    "    box = Rectangle()\n",
    "    box.width = 100.0\n",
    "    box.height = 200.0\n",
    "    box.corner = Point()\n",
    "    box.corner.x = 50.0\n",
    "    box.corner.y = 50.0\n",
    "\n",
    "    print(box.corner.x)\n",
    "    print(box.corner.y)\n",
    "\n",
    "    circle = Circle()\n",
    "    circle.center = Point()\n",
    "    circle.center.x = 120.0\n",
    "    circle.center.y = 120.0\n",
    "    circle.radius = 5.0\n",
    "\n",
    "    print(circle.center.x)\n",
    "    print(circle.center.y)\n",
    "    print(circle.radius)\n",
    "\n",
    "    print(point_in_circle(box.corner, circle))\n",
    "    print(rect_in_circle(box, circle))\n",
    "    print(rect_circle_overlap(box, circle))\n",
    "\n",
    "\n",
    "if __name__ == '__main__':\n",
    "    main()"
   ]
  },
  {
   "cell_type": "code",
   "execution_count": 1,
   "metadata": {},
   "outputs": [],
   "source": [
    "## 15.2 画出一个矩形\n",
    "\n",
    "## 该习题查看py脚本"
   ]
  }
 ],
 "metadata": {
  "kernelspec": {
   "display_name": "Python 3",
   "language": "python",
   "name": "python3"
  },
  "language_info": {
   "codemirror_mode": {
    "name": "ipython",
    "version": 3
   },
   "file_extension": ".py",
   "mimetype": "text/x-python",
   "name": "python",
   "nbconvert_exporter": "python",
   "pygments_lexer": "ipython3",
   "version": "3.6.1"
  }
 },
 "nbformat": 4,
 "nbformat_minor": 4
}
