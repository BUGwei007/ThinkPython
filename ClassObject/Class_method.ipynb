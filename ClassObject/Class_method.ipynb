{
 "cells": [
  {
   "cell_type": "code",
   "execution_count": 82,
   "metadata": {},
   "outputs": [],
   "source": [
    "## 重构 pint_time()\n",
    "class Time():\n",
    "    \n",
    "    def __init__(self, hour=0, minute=0, second=0):\n",
    "        \" init the parameter\"\n",
    "        self.hour = hour\n",
    "        self.minute = minute\n",
    "        self.second = second\n",
    "    \n",
    "    def __str__(self):\n",
    "        \"return the string for the print() \"\n",
    "        return '%.2d:%.2d:%.2d' % (self.hour, self.minute, self.second)\n",
    "    \n",
    "    def __add__(self, other):\n",
    "        \"在time对象应用 + 运算符时，python直接调用 __add__ \"\n",
    "        \" type-based dispatch--类型分发\"\n",
    "        if isinstance(other, Time):\n",
    "            \" check the other type\"\n",
    "            return self.add_time(other)\n",
    "        else:\n",
    "            return self.increment(other)\n",
    "    \n",
    "    def print_time(self):\n",
    "        print('%.2d:%.2d:%.2d' % (self.hour, self.minute, self.second))\n",
    "        \n",
    "    def time_to_int(self):\n",
    "        seconds = self.hour * 3600 + self.minute * 60 + self.second\n",
    "        return seconds\n",
    "    \n",
    "    def increment(self, seconds):\n",
    "        seconds += self.time_to_int()\n",
    "        return int_to_time(seconds)\n",
    "    \n",
    "    def add_time(self, other):\n",
    "        seconds = self.time_to_int() + other.time_to_int()\n",
    "        return int_to_time(seconds)\n",
    "\n",
    "    def is_after(self, other):\n",
    "        return self.time_to_int() > other.time_to_int()\n",
    "        \n",
    "\n",
    "def int_to_time(seconds):\n",
    "    t = Time()\n",
    "    t.minute, t.second = divmod(seconds, 60)\n",
    "    t.hour, t.minute = divmod(t.minute, 60)\n",
    "    \n",
    "    return t\n",
    "\n"
   ]
  },
  {
   "cell_type": "code",
   "execution_count": 83,
   "metadata": {},
   "outputs": [
    {
     "name": "stdout",
     "output_type": "stream",
     "text": [
      "04:45:12\n",
      "04:45:12\n",
      "17112\n",
      "17112\n"
     ]
    }
   ],
   "source": [
    "start = Time()\n",
    "start.hour = 4\n",
    "start.minute = 45\n",
    "start.second = 12\n",
    "\n",
    "start.print_time()    ## 调用对象的方法\n",
    "Time.print_time(start)    ## 调用函数的方法\n",
    "print(start.time_to_int())\n",
    "print(Time.time_to_int(start))"
   ]
  },
  {
   "cell_type": "code",
   "execution_count": 84,
   "metadata": {},
   "outputs": [
    {
     "name": "stdout",
     "output_type": "stream",
     "text": [
      "05:07:29\n"
     ]
    }
   ],
   "source": [
    "end = start.increment(1337)\n",
    "end.print_time()"
   ]
  },
  {
   "cell_type": "code",
   "execution_count": 85,
   "metadata": {},
   "outputs": [
    {
     "ename": "TypeError",
     "evalue": "increment() takes 2 positional arguments but 3 were given",
     "traceback": [
      "\u001b[1;31m---------------------------------------------------------------------------\u001b[0m",
      "\u001b[1;31mTypeError\u001b[0m                                 Traceback (most recent call last)",
      "\u001b[1;32m<ipython-input-85-6276bda6c95d>\u001b[0m in \u001b[0;36m<module>\u001b[1;34m()\u001b[0m\n\u001b[0;32m      1\u001b[0m \u001b[1;31m## 特别关注实参的个数，因为主语也被认为是一个参数\u001b[0m\u001b[1;33m\u001b[0m\u001b[1;33m\u001b[0m\u001b[0m\n\u001b[1;32m----> 2\u001b[1;33m \u001b[0mend\u001b[0m \u001b[1;33m=\u001b[0m \u001b[0mstart\u001b[0m\u001b[1;33m.\u001b[0m\u001b[0mincrement\u001b[0m\u001b[1;33m(\u001b[0m\u001b[1;36m1337\u001b[0m\u001b[1;33m,\u001b[0m \u001b[1;36m460\u001b[0m\u001b[1;33m)\u001b[0m\u001b[1;33m\u001b[0m\u001b[0m\n\u001b[0m",
      "\u001b[1;31mTypeError\u001b[0m: increment() takes 2 positional arguments but 3 were given"
     ],
     "output_type": "error"
    }
   ],
   "source": [
    "## 特别关注实参的个数，因为主语也被认为是一个参数\n",
    "end = start.increment(1337, 460)"
   ]
  },
  {
   "cell_type": "code",
   "execution_count": 86,
   "metadata": {},
   "outputs": [
    {
     "data": {
      "text/plain": [
       "True"
      ]
     },
     "execution_count": 86,
     "metadata": {},
     "output_type": "execute_result"
    }
   ],
   "source": [
    "end.is_after(start)"
   ]
  },
  {
   "cell_type": "code",
   "execution_count": 87,
   "metadata": {},
   "outputs": [
    {
     "name": "stdout",
     "output_type": "stream",
     "text": [
      "00:00:00\n",
      "08:45:42\n"
     ]
    }
   ],
   "source": [
    "## test __init__\n",
    "time = Time()\n",
    "time.print_time()\n",
    "time = Time(8, 45, 42)\n",
    "time.print_time()"
   ]
  },
  {
   "cell_type": "code",
   "execution_count": 88,
   "metadata": {},
   "outputs": [
    {
     "name": "stdout",
     "output_type": "stream",
     "text": [
      "09:45:00\n"
     ]
    }
   ],
   "source": [
    "## test __str__\n",
    "\n",
    "time = Time(9, 45)\n",
    "print(time)"
   ]
  },
  {
   "cell_type": "code",
   "execution_count": 89,
   "metadata": {},
   "outputs": [
    {
     "name": "stdout",
     "output_type": "stream",
     "text": [
      "11:20:00\n"
     ]
    }
   ],
   "source": [
    "## 运算符重载, 定义一些特殊方法，对自定义类型指定运算符的行为\n",
    "\n",
    "start = Time(9, 45)\n",
    "duration = Time(1, 35)\n",
    "\n",
    "print(start + duration)"
   ]
  },
  {
   "cell_type": "code",
   "execution_count": 92,
   "metadata": {},
   "outputs": [
    {
     "name": "stdout",
     "output_type": "stream",
     "text": [
      "11:20:00\n",
      "09:56:17\n"
     ]
    }
   ],
   "source": [
    "## 不同类型使用 + 运算符的例子\n",
    "\n",
    "start = Time(9, 34)\n",
    "duration = Time(1, 46)\n",
    "print(start + duration)\n",
    "print(start + 1337)"
   ]
  },
  {
   "cell_type": "code",
   "execution_count": 72,
   "metadata": {},
   "outputs": [
    {
     "name": "stdout",
     "output_type": "stream",
     "text": [
      "x=0, y=0.\n",
      "x=3, y=4.\n",
      "x=8, y=8.\n"
     ]
    }
   ],
   "source": [
    "## 实例化 Point Class \n",
    "\n",
    "class Point():\n",
    "    \n",
    "    def __init__(self, x=0, y=0):\n",
    "        self.x = x\n",
    "        self.y = y\n",
    "        \n",
    "    def __str__(self):\n",
    "        return ('x=%d, y=%d.' % (self.x, self.y) )\n",
    "    \n",
    "    def __add__(self, other):\n",
    "        target = Point()\n",
    "        target.x = self.x + other.x\n",
    "        target.y = self.y + other.y\n",
    "        return target\n",
    "    \n",
    "point = Point()\n",
    "print(point)\n",
    "point = Point(3, 4)\n",
    "print(point)\n",
    "point_a = Point(2,2)\n",
    "point_b = Point(6,6)\n",
    "print(point_a + point_b)"
   ]
  },
  {
   "cell_type": "code",
   "execution_count": null,
   "metadata": {},
   "outputs": [],
   "source": []
  }
 ],
 "metadata": {
  "kernelspec": {
   "display_name": "Python 3",
   "language": "python",
   "name": "python3"
  },
  "language_info": {
   "codemirror_mode": {
    "name": "ipython",
    "version": 3
   },
   "file_extension": ".py",
   "mimetype": "text/x-python",
   "name": "python",
   "nbconvert_exporter": "python",
   "pygments_lexer": "ipython3",
   "version": "3.6.1"
  }
 },
 "nbformat": 4,
 "nbformat_minor": 4
}
