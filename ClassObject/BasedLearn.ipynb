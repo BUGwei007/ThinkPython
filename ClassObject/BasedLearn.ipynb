{
 "cells": [
  {
   "cell_type": "code",
   "execution_count": 2,
   "metadata": {
    "collapsed": true
   },
   "outputs": [],
   "source": [
    "# 定义一个对象\n",
    "class Point:\n",
    "    \"\"\" represents a point in 2-D space \"\"\""
   ]
  },
  {
   "cell_type": "code",
   "execution_count": 3,
   "metadata": {},
   "outputs": [
    {
     "data": {
      "text/plain": [
       "__main__.Point"
      ]
     },
     "execution_count": 3,
     "metadata": {},
     "output_type": "execute_result"
    }
   ],
   "source": [
    "# 定义这个类的同时，也创建了一个类对象\n",
    "Point"
   ]
  },
  {
   "cell_type": "code",
   "execution_count": 4,
   "metadata": {},
   "outputs": [
    {
     "data": {
      "text/plain": [
       "<__main__.Point at 0x1cdedada128>"
      ]
     },
     "execution_count": 4,
     "metadata": {},
     "output_type": "execute_result"
    }
   ],
   "source": [
    "# 引用这个对象，也称之为实例化\n",
    "blank = Point()\n",
    "blank   # 一个实例"
   ]
  },
  {
   "cell_type": "code",
   "execution_count": 5,
   "metadata": {},
   "outputs": [
    {
     "data": {
      "text/plain": [
       "3.0"
      ]
     },
     "execution_count": 5,
     "metadata": {},
     "output_type": "execute_result"
    }
   ],
   "source": [
    "# 实例的属性\n",
    "blank.x = 3.0\n",
    "blank.y = 4.0\n",
    "blank.x     # 读取一个属性的值"
   ]
  },
  {
   "cell_type": "code",
   "execution_count": 6,
   "metadata": {},
   "outputs": [
    {
     "data": {
      "text/plain": [
       "3.0"
      ]
     },
     "execution_count": 6,
     "metadata": {},
     "output_type": "execute_result"
    }
   ],
   "source": [
    "# 将属性赋给变量\n",
    "x = blank.x\n",
    "x"
   ]
  },
  {
   "cell_type": "code",
   "execution_count": 7,
   "metadata": {},
   "outputs": [
    {
     "data": {
      "text/plain": [
       "5.0"
      ]
     },
     "execution_count": 7,
     "metadata": {},
     "output_type": "execute_result"
    }
   ],
   "source": [
    "import math\n",
    "distance = math.sqrt(blank.x**2 + blank.y**2)\n",
    "distance"
   ]
  },
  {
   "cell_type": "code",
   "execution_count": 8,
   "metadata": {},
   "outputs": [
    {
     "name": "stdout",
     "output_type": "stream",
     "text": [
      "p.x is 3.0, p.y is 4.0\n"
     ]
    }
   ],
   "source": [
    "# 将一个实例作为参数传递\n",
    "def print_point(p):\n",
    "    print('p.x is %s, p.y is %s' % (p.x, p.y))\n",
    "print_point(blank)"
   ]
  },
  {
   "cell_type": "code",
   "execution_count": 9,
   "metadata": {},
   "outputs": [],
   "source": [
    "# 定义一个类\n",
    "class Rectangle:\n",
    "    \"\"\" Represents a rectangle.\n",
    "    attributes: width, height, corner.\n",
    "    \"\"\""
   ]
  },
  {
   "cell_type": "code",
   "execution_count": 10,
   "metadata": {},
   "outputs": [],
   "source": [
    "# 实例化一个Rectangle对象，描述矩形，并为属性赋值\n",
    "box = Rectangle()\n",
    "box.width = 100.0\n",
    "box.height = 200.0\n",
    "box.corner = Point()    # 嵌套：将一个对象作为另一个对象的属性\n",
    "box.corner.x = 0.0\n",
    "box.corner.y = 0.0"
   ]
  },
  {
   "cell_type": "code",
   "execution_count": 11,
   "metadata": {},
   "outputs": [
    {
     "name": "stdout",
     "output_type": "stream",
     "text": [
      "p.x is 50.0, p.y is 100.0\n"
     ]
    }
   ],
   "source": [
    "# 将实例作为函数返回值\n",
    "def find_center(rect):\n",
    "    \"\"\" return the center of the Rectangle.\"\"\"\n",
    "    p = Point()\n",
    "    p.x = rect.corner.x + rect.width/2\n",
    "    p.y = rect.corner.y + rect.height/2\n",
    "    return p\n",
    "center = find_center(box)\n",
    "print_point(center)"
   ]
  },
  {
   "cell_type": "code",
   "execution_count": 16,
   "metadata": {},
   "outputs": [
    {
     "name": "stdout",
     "output_type": "stream",
     "text": [
      "200.0 400.0\nafter change the width and height rectangle : \n  250.0 500.0\n"
     ]
    }
   ],
   "source": [
    "# 对象是可变的\n",
    "def grow_rectangle(rect, dwidth, dheight):\n",
    "    \"\"\" chang the width and height of the rectangle.\"\"\"\n",
    "    rect.width += dwidth\n",
    "    rect.height += dheight\n",
    "print(box.width, box.height)\n",
    "grow_rectangle(box, 50, 100)\n",
    "print(\"after change the width and height rectangle : \\n \", box.width, box.height)"
   ]
  },
  {
   "cell_type": "code",
   "execution_count": 20,
   "metadata": {},
   "outputs": [
    {
     "name": "stdout",
     "output_type": "stream",
     "text": [
      "4.0 4.0\n6.0 6.0\n"
     ]
    }
   ],
   "source": [
    "# 对象可以改变——移动矩形的起点\n",
    "def move_rectangle(rect, dx, dy):\n",
    "    \"\"\" change the position of a Rectangle\"\"\"\n",
    "    rect.corner.x += dx\n",
    "    rect.corner.y += dy\n",
    "print(box.corner.x, box.corner.y)\n",
    "move_rectangle(box, 2, 2)\n",
    "print(box.corner.x, box.corner.y)"
   ]
  },
  {
   "cell_type": "code",
   "execution_count": 25,
   "metadata": {},
   "outputs": [
    {
     "name": "stdout",
     "output_type": "stream",
     "text": [
      "p.x is 3.0, p.y is 4.0\np.x is 3.0, p.y is 4.0\nFalse\nFalse\n"
     ]
    }
   ],
   "source": [
    "# 复制对象——使其效率更高\n",
    "import copy\n",
    "p1 = Point()    # 实例化\n",
    "p1.x = 3.0\n",
    "p1.y = 4.0\n",
    "\n",
    "p2 = copy.copy(p1)  # 复制一个对象,数据相同，但不是同一个数据\n",
    "print_point(p1)\n",
    "print_point(p2)\n",
    "\n",
    "print(p1 is p2)     # 并不是同一个对象\n",
    "print(p1 == p2)     # 对象的标识符不同，并不是同一个对象"
   ]
  },
  {
   "cell_type": "code",
   "execution_count": 29,
   "metadata": {},
   "outputs": [
    {
     "name": "stdout",
     "output_type": "stream",
     "text": [
      "False\nTrue\n"
     ]
    }
   ],
   "source": [
    "# 浅复制——只复制当前对象以及其包含的引用，并不复制嵌套的对象\n",
    "box2 = copy.copy(box)\n",
    "print(box2 is box)      # 并非同一个对象\n",
    "print(box2.corner is box.corner)    # 是同一个对象"
   ]
  },
  {
   "cell_type": "code",
   "execution_count": 30,
   "metadata": {},
   "outputs": [
    {
     "name": "stdout",
     "output_type": "stream",
     "text": [
      "False\nFalse\n"
     ]
    }
   ],
   "source": [
    "# 深复制——复制对象的所有内容\n",
    "box3 = copy.deepcopy(box)\n",
    "print(box3 is box)\n",
    "print(box3.corner is box.corner)"
   ]
  },
  {
   "cell_type": "code",
   "execution_count": 35,
   "metadata": {},
   "outputs": [
    {
     "name": "stdout",
     "output_type": "stream",
     "text": [
      "<__main__.Rectangle object at 0x000001CDEDB08358> <__main__.Point object at 0x000001CDEDB083C8> \n 8.0 8.0\n"
     ]
    }
   ],
   "source": [
    "# 修改原来的move_rectangle,使其返回一个新的Rectangle对象并非原来修改的那个\n",
    "def new_move_rectangle(rect, dx, dy):\n",
    "    \"\"\" change the position of a rectangle, and return a new rectangle objext\"\"\"\n",
    "    new_rect = copy.deepcopy(rect)\n",
    "    new_rect.corner.x += dx\n",
    "    new_rect.corner.y += dy\n",
    "    return new_rect\n",
    "box4 = new_move_rectangle(box, 2, 2)\n",
    "print(box4, box4.corner, '\\n', box4.corner.x, box4.corner.y)"
   ]
  },
  {
   "cell_type": "code",
   "execution_count": 36,
   "metadata": {},
   "outputs": [
    {
     "ename": "AttributeError",
     "evalue": "'Point' object has no attribute 'z'",
     "traceback": [
      "\u001b[1;31m---------------------------------------------------------------------------\u001b[0m",
      "\u001b[1;31mAttributeError\u001b[0m                            Traceback (most recent call last)",
      "\u001b[1;32m<ipython-input-36-82c9f855c13b>\u001b[0m in \u001b[0;36m<module>\u001b[1;34m()\u001b[0m\n\u001b[0;32m      3\u001b[0m \u001b[0mp\u001b[0m\u001b[1;33m.\u001b[0m\u001b[0mx\u001b[0m \u001b[1;33m=\u001b[0m \u001b[1;36m3\u001b[0m\u001b[1;33m\u001b[0m\u001b[0m\n\u001b[0;32m      4\u001b[0m \u001b[0mp\u001b[0m\u001b[1;33m.\u001b[0m\u001b[0my\u001b[0m \u001b[1;33m=\u001b[0m \u001b[1;36m4\u001b[0m\u001b[1;33m\u001b[0m\u001b[0m\n\u001b[1;32m----> 5\u001b[1;33m \u001b[0mp\u001b[0m\u001b[1;33m.\u001b[0m\u001b[0mz\u001b[0m\u001b[1;33m\u001b[0m\u001b[0m\n\u001b[0m",
      "\u001b[1;31mAttributeError\u001b[0m: 'Point' object has no attribute 'z'"
     ],
     "output_type": "error"
    }
   ],
   "source": [
    "# 简单的调试功能——属性不存在\n",
    "p = Point()\n",
    "p.x = 3\n",
    "p.y = 4\n",
    "p.z"
   ]
  },
  {
   "cell_type": "code",
   "execution_count": 37,
   "metadata": {},
   "outputs": [
    {
     "data": {
      "text/plain": [
       "__main__.Point"
      ]
     },
     "execution_count": 37,
     "metadata": {},
     "output_type": "execute_result"
    }
   ],
   "source": [
    "# 询问某个对象的类型\n",
    "type(p)"
   ]
  },
  {
   "cell_type": "code",
   "execution_count": 38,
   "metadata": {},
   "outputs": [
    {
     "data": {
      "text/plain": [
       "True"
      ]
     },
     "execution_count": 38,
     "metadata": {},
     "output_type": "execute_result"
    }
   ],
   "source": [
    "# 检查某个对象是不是某个类的实例\n",
    "isinstance(p, Point)"
   ]
  },
  {
   "cell_type": "code",
   "execution_count": 40,
   "metadata": {},
   "outputs": [
    {
     "data": {
      "text/plain": [
       "False"
      ]
     },
     "execution_count": 40,
     "metadata": {},
     "output_type": "execute_result"
    }
   ],
   "source": [
    "# 检查对象是否拥有某个属性\n",
    "hasattr(p, 'x')\n",
    "hasattr(p, 'z')"
   ]
  },
  {
   "cell_type": "code",
   "execution_count": 43,
   "metadata": {},
   "outputs": [
    {
     "name": "stdout",
     "output_type": "stream",
     "text": [
      "3\n"
     ]
    }
   ],
   "source": [
    "# 使用try语句检查某个对象是否有相应的属性\n",
    "try:\n",
    "    x = p.x\n",
    "except AttributeError:\n",
    "    x = 0\n",
    "print(x)"
   ]
  },
  {
   "cell_type": "code",
   "execution_count": null,
   "metadata": {},
   "outputs": [],
   "source": [
    ""
   ]
  },
  {
   "cell_type": "code",
   "execution_count": 48,
   "metadata": {},
   "outputs": [],
   "source": [
    "class Circle:\n",
    "    \"\"\" 定义一个圆, 其属性是圆心和半径\"\"\"\n",
    "\n",
    "\n",
    "class Point:\n",
    "    \"\"\" 定义一个点，作为圆心\"\"\"\n",
    "    \n",
    "ex15 = Circle()\n",
    "ex15.radius = 75\n",
    "ex15.center = Point()\n",
    "ex15.center.x = 150\n",
    "ex15.center.y = 100"
   ]
  },
  {
   "cell_type": "code",
   "execution_count": 54,
   "metadata": {},
   "outputs": [
    {
     "data": {
      "text/plain": [
       "True"
      ]
     },
     "execution_count": 54,
     "metadata": {},
     "output_type": "execute_result"
    }
   ],
   "source": [
    "from math import sqrt\n",
    "\n",
    "\n",
    "def point_in_circle(cir, poi):\n",
    "    \"\"\" judge a point whether in circle \"\"\"\n",
    "    dis = sqrt((cir.center.x-poi.x)**2 + (cir.center.y-poi.y)*2)\n",
    "    # print(dis)\n",
    "    if dis < cir.radius:\n",
    "        return True\n",
    "    else:\n",
    "        return False\n",
    "\n",
    "test = Point()\n",
    "test.x = 120\n",
    "test.y = 145\n",
    "point_in_circle(ex15, test)"
   ]
  },
  {
   "cell_type": "code",
   "execution_count": null,
   "metadata": {},
   "outputs": [],
   "source": [
    ""
   ]
  },
  {
   "cell_type": "code",
   "execution_count": null,
   "metadata": {},
   "outputs": [],
   "source": [
    ""
   ]
  }
 ],
 "metadata": {
  "kernelspec": {
   "display_name": "Python 2",
   "language": "python",
   "name": "python2"
  },
  "language_info": {
   "codemirror_mode": {
    "name": "ipython",
    "version": 2
   },
   "file_extension": ".py",
   "mimetype": "text/x-python",
   "name": "python",
   "nbconvert_exporter": "python",
   "pygments_lexer": "ipython2",
   "version": "2.7.6"
  }
 },
 "nbformat": 4,
 "nbformat_minor": 0
}
